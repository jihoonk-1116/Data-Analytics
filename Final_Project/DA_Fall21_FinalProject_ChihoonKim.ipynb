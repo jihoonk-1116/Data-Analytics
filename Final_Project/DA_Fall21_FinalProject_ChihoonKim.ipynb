{
 "cells": [
  {
   "cell_type": "markdown",
   "metadata": {},
   "source": [
    "# CS381/780 Data Analytics Final Project"
   ]
  },
  {
   "cell_type": "markdown",
   "metadata": {},
   "source": [
    "### Due on 12/13/2021 23:59 pm"
   ]
  },
  {
   "cell_type": "code",
   "execution_count": 1,
   "metadata": {},
   "outputs": [],
   "source": [
    "import numpy as np\n",
    "import pandas as pd\n",
    "import matplotlib.pyplot as plt\n",
    "import seaborn as sns\n",
    "import warnings\n",
    "warnings.filterwarnings('ignore')\n",
    "from sklearn.model_selection import train_test_split"
   ]
  },
  {
   "cell_type": "code",
   "execution_count": 2,
   "metadata": {},
   "outputs": [],
   "source": [
    "from sklearn.model_selection import train_test_split\n",
    "from sklearn.linear_model import LogisticRegression\n",
    "from sklearn import svm\n",
    "from sklearn.ensemble import RandomForestClassifier\n",
    "from sklearn.tree import DecisionTreeClassifier"
   ]
  },
  {
   "cell_type": "code",
   "execution_count": 3,
   "metadata": {},
   "outputs": [],
   "source": [
    "from sklearn.metrics import classification_report,confusion_matrix,accuracy_score"
   ]
  },
  {
   "cell_type": "markdown",
   "metadata": {},
   "source": [
    "### Dataset is based on the follwoing \n",
    "\n",
    "https://archive.ics.uci.edu/ml/datasets/statlog+(german+credit+data)"
   ]
  },
  {
   "cell_type": "markdown",
   "metadata": {},
   "source": [
    "Attribute Information:\n",
    "\n",
    "Attribute 1: (qualitative)\n",
    "Status of existing checking account\n",
    "A11 : ... < 0 DM\n",
    "A12 : 0 <= ... < 200 DM\n",
    "A13 : ... >= 200 DM / salary assignments for at least 1 year\n",
    "A14 : no checking account\n",
    "\n",
    "Attribute 2: (numerical)\n",
    "Duration in month\n",
    "\n",
    "Attribute 3: (qualitative)\n",
    "Credit history\n",
    "A30 : no credits taken/ all credits paid back duly\n",
    "A31 : all credits at this bank paid back duly\n",
    "A32 : existing credits paid back duly till now\n",
    "A33 : delay in paying off in the past\n",
    "A34 : critical account/ other credits existing (not at this bank)\n",
    "\n",
    "Attribute 4: (qualitative)\n",
    "Purpose\n",
    "A40 : car (new)\n",
    "A41 : car (used)\n",
    "A42 : furniture/equipment\n",
    "A43 : radio/television\n",
    "A44 : domestic appliances\n",
    "A45 : repairs\n",
    "A46 : education\n",
    "A47 : (vacation - does not exist?)\n",
    "A48 : retraining\n",
    "A49 : business\n",
    "A410 : others\n",
    "\n",
    "Attribute 5: (numerical)\n",
    "Credit amount\n",
    "\n",
    "Attibute 6: (qualitative)\n",
    "Savings account/bonds\n",
    "A61 : ... < 100 DM\n",
    "A62 : 100 <= ... < 500 DM\n",
    "A63 : 500 <= ... < 1000 DM\n",
    "A64 : .. >= 1000 DM\n",
    "A65 : unknown/ no savings account\n",
    "\n",
    "Attribute 7: (qualitative)\n",
    "Present employment since\n",
    "A71 : unemployed\n",
    "A72 : ... < 1 year\n",
    "A73 : 1 <= ... < 4 years\n",
    "A74 : 4 <= ... < 7 years\n",
    "A75 : .. >= 7 years\n",
    "\n",
    "Attribute 8: (numerical)\n",
    "Installment rate in percentage of disposable income\n",
    "\n",
    "Attribute 9: (qualitative)\n",
    "Personal status and sex\n",
    "A91 : male : divorced/separated\n",
    "A92 : female : divorced/separated/married\n",
    "A93 : male : single\n",
    "A94 : male : married/widowed\n",
    "A95 : female : single\n",
    "\n",
    "Attribute 10: (qualitative)\n",
    "Other debtors / guarantors\n",
    "A101 : none\n",
    "A102 : co-applicant\n",
    "A103 : guarantor\n",
    "\n",
    "Attribute 11: (numerical)\n",
    "Present residence since\n",
    "\n",
    "Attribute 12: (qualitative)\n",
    "Property\n",
    "A121 : real estate\n",
    "A122 : if not A121 : building society savings agreement/ life insurance\n",
    "A123 : if not A121/A122 : car or other, not in attribute 6\n",
    "A124 : unknown / no property\n",
    "\n",
    "Attribute 13: (numerical)\n",
    "Age in years\n",
    "\n",
    "Attribute 14: (qualitative)\n",
    "Other installment plans\n",
    "A141 : bank\n",
    "A142 : stores\n",
    "A143 : none\n",
    "\n",
    "Attribute 15: (qualitative)\n",
    "Housing\n",
    "A151 : rent\n",
    "A152 : own\n",
    "A153 : for free\n",
    "\n",
    "Attribute 16: (numerical)\n",
    "Number of existing credits at this bank\n",
    "\n",
    "Attribute 17: (qualitative)\n",
    "Job\n",
    "A171 : unemployed/ unskilled - non-resident\n",
    "A172 : unskilled - resident\n",
    "A173 : skilled employee / official\n",
    "A174 : management/ self-employed/\n",
    "highly qualified employee/ officer\n",
    "\n",
    "Attribute 18: (numerical)\n",
    "Number of people being liable to provide maintenance for\n",
    "\n",
    "Attribute 19: (qualitative)\n",
    "Telephone\n",
    "A191 : none\n",
    "A192 : yes, registered under the customers name\n",
    "\n",
    "Attribute 20: (qualitative)\n",
    "foreign worker\n",
    "A201 : yes\n",
    "A202 : no"
   ]
  },
  {
   "cell_type": "markdown",
   "metadata": {},
   "source": [
    "### Your task in the final project is build the best predictive model to classify if a loan will carry good or bad credit risks. The focus should be in identifying bad risk loans"
   ]
  },
  {
   "cell_type": "markdown",
   "metadata": {},
   "source": [
    "* Try at least two of the models (Logistic, SVM, Naive Bayes, Decision Tree and Random Forecast) that we have covered in class.\n",
    "* Do not use any models that we have not covered in class.\n",
    "*\n",
    "* Answer the question whether past credit history will be an important factor or not.\n",
    "\n",
    "### Make sure your work include the following steps"
   ]
  },
  {
   "cell_type": "markdown",
   "metadata": {},
   "source": [
    "* EDA (chekcing missing values, removing outliers)\n",
    "* performed basic exploration of relationship, with plots and graphs\n",
    "* separated data set into training and testing\n",
    "* setup dummy variables to take care categorical variables\n",
    "* normalize numerical features if needed\n",
    "* tried at least two models and checked their model performance\n",
    "* performed cross-validations"
   ]
  },
  {
   "cell_type": "code",
   "execution_count": 4,
   "metadata": {},
   "outputs": [
    {
     "data": {
      "text/html": [
       "<div>\n",
       "<style scoped>\n",
       "    .dataframe tbody tr th:only-of-type {\n",
       "        vertical-align: middle;\n",
       "    }\n",
       "\n",
       "    .dataframe tbody tr th {\n",
       "        vertical-align: top;\n",
       "    }\n",
       "\n",
       "    .dataframe thead th {\n",
       "        text-align: right;\n",
       "    }\n",
       "</style>\n",
       "<table border=\"1\" class=\"dataframe\">\n",
       "  <thead>\n",
       "    <tr style=\"text-align: right;\">\n",
       "      <th></th>\n",
       "      <th>Checking Account</th>\n",
       "      <th>Duration</th>\n",
       "      <th>Credit History</th>\n",
       "      <th>Purpose</th>\n",
       "      <th>Credit Amount</th>\n",
       "      <th>Saving Account</th>\n",
       "      <th>Employment Status</th>\n",
       "      <th>Installment Rate</th>\n",
       "      <th>Personal Status</th>\n",
       "      <th>Guarantors</th>\n",
       "      <th>Years in current address</th>\n",
       "      <th>Property</th>\n",
       "      <th>Age</th>\n",
       "      <th>Installment plans</th>\n",
       "      <th>Housing</th>\n",
       "      <th>Existing Credits</th>\n",
       "      <th>Job</th>\n",
       "      <th>Liable</th>\n",
       "      <th>Risk</th>\n",
       "    </tr>\n",
       "  </thead>\n",
       "  <tbody>\n",
       "    <tr>\n",
       "      <th>0</th>\n",
       "      <td>A11</td>\n",
       "      <td>6</td>\n",
       "      <td>A34</td>\n",
       "      <td>A43</td>\n",
       "      <td>1169</td>\n",
       "      <td>A65</td>\n",
       "      <td>A75</td>\n",
       "      <td>4</td>\n",
       "      <td>A93</td>\n",
       "      <td>A101</td>\n",
       "      <td>4</td>\n",
       "      <td>A121</td>\n",
       "      <td>67</td>\n",
       "      <td>A143</td>\n",
       "      <td>A152</td>\n",
       "      <td>2</td>\n",
       "      <td>A173</td>\n",
       "      <td>1</td>\n",
       "      <td>1</td>\n",
       "    </tr>\n",
       "    <tr>\n",
       "      <th>1</th>\n",
       "      <td>A12</td>\n",
       "      <td>48</td>\n",
       "      <td>A32</td>\n",
       "      <td>A43</td>\n",
       "      <td>5951</td>\n",
       "      <td>A61</td>\n",
       "      <td>A73</td>\n",
       "      <td>2</td>\n",
       "      <td>A92</td>\n",
       "      <td>A101</td>\n",
       "      <td>2</td>\n",
       "      <td>A121</td>\n",
       "      <td>22</td>\n",
       "      <td>A143</td>\n",
       "      <td>A152</td>\n",
       "      <td>1</td>\n",
       "      <td>A173</td>\n",
       "      <td>1</td>\n",
       "      <td>2</td>\n",
       "    </tr>\n",
       "    <tr>\n",
       "      <th>2</th>\n",
       "      <td>A14</td>\n",
       "      <td>12</td>\n",
       "      <td>A34</td>\n",
       "      <td>A46</td>\n",
       "      <td>2096</td>\n",
       "      <td>A61</td>\n",
       "      <td>A74</td>\n",
       "      <td>2</td>\n",
       "      <td>A93</td>\n",
       "      <td>A101</td>\n",
       "      <td>3</td>\n",
       "      <td>A121</td>\n",
       "      <td>49</td>\n",
       "      <td>A143</td>\n",
       "      <td>A152</td>\n",
       "      <td>1</td>\n",
       "      <td>A172</td>\n",
       "      <td>2</td>\n",
       "      <td>1</td>\n",
       "    </tr>\n",
       "    <tr>\n",
       "      <th>3</th>\n",
       "      <td>A11</td>\n",
       "      <td>42</td>\n",
       "      <td>A32</td>\n",
       "      <td>A42</td>\n",
       "      <td>7882</td>\n",
       "      <td>A61</td>\n",
       "      <td>A74</td>\n",
       "      <td>2</td>\n",
       "      <td>A93</td>\n",
       "      <td>A103</td>\n",
       "      <td>4</td>\n",
       "      <td>A122</td>\n",
       "      <td>45</td>\n",
       "      <td>A143</td>\n",
       "      <td>A153</td>\n",
       "      <td>1</td>\n",
       "      <td>A173</td>\n",
       "      <td>2</td>\n",
       "      <td>1</td>\n",
       "    </tr>\n",
       "    <tr>\n",
       "      <th>4</th>\n",
       "      <td>A11</td>\n",
       "      <td>24</td>\n",
       "      <td>A33</td>\n",
       "      <td>A40</td>\n",
       "      <td>4870</td>\n",
       "      <td>A61</td>\n",
       "      <td>A73</td>\n",
       "      <td>3</td>\n",
       "      <td>A93</td>\n",
       "      <td>A101</td>\n",
       "      <td>4</td>\n",
       "      <td>A124</td>\n",
       "      <td>53</td>\n",
       "      <td>A143</td>\n",
       "      <td>A153</td>\n",
       "      <td>2</td>\n",
       "      <td>A173</td>\n",
       "      <td>2</td>\n",
       "      <td>2</td>\n",
       "    </tr>\n",
       "  </tbody>\n",
       "</table>\n",
       "</div>"
      ],
      "text/plain": [
       "  Checking Account  Duration Credit History Purpose  Credit Amount  \\\n",
       "0              A11         6            A34     A43           1169   \n",
       "1              A12        48            A32     A43           5951   \n",
       "2              A14        12            A34     A46           2096   \n",
       "3              A11        42            A32     A42           7882   \n",
       "4              A11        24            A33     A40           4870   \n",
       "\n",
       "  Saving Account Employment Status  Installment Rate Personal Status  \\\n",
       "0            A65               A75                 4             A93   \n",
       "1            A61               A73                 2             A92   \n",
       "2            A61               A74                 2             A93   \n",
       "3            A61               A74                 2             A93   \n",
       "4            A61               A73                 3             A93   \n",
       "\n",
       "  Guarantors  Years in current address Property  Age Installment plans  \\\n",
       "0       A101                         4     A121   67              A143   \n",
       "1       A101                         2     A121   22              A143   \n",
       "2       A101                         3     A121   49              A143   \n",
       "3       A103                         4     A122   45              A143   \n",
       "4       A101                         4     A124   53              A143   \n",
       "\n",
       "  Housing  Existing Credits   Job  Liable  Risk  \n",
       "0    A152                 2  A173       1     1  \n",
       "1    A152                 1  A173       1     2  \n",
       "2    A152                 1  A172       2     1  \n",
       "3    A153                 1  A173       2     1  \n",
       "4    A153                 2  A173       2     2  "
      ]
     },
     "execution_count": 4,
     "metadata": {},
     "output_type": "execute_result"
    }
   ],
   "source": [
    "df = pd.read_csv(\"german_credit_modified.csv\")\n",
    "df.head()"
   ]
  },
  {
   "cell_type": "code",
   "execution_count": 5,
   "metadata": {},
   "outputs": [],
   "source": [
    "df['Risk'] = df['Risk'].apply(lambda x: 'good' if x == 1 else 'bad')"
   ]
  },
  {
   "cell_type": "code",
   "execution_count": 6,
   "metadata": {},
   "outputs": [
    {
     "data": {
      "text/html": [
       "<div>\n",
       "<style scoped>\n",
       "    .dataframe tbody tr th:only-of-type {\n",
       "        vertical-align: middle;\n",
       "    }\n",
       "\n",
       "    .dataframe tbody tr th {\n",
       "        vertical-align: top;\n",
       "    }\n",
       "\n",
       "    .dataframe thead th {\n",
       "        text-align: right;\n",
       "    }\n",
       "</style>\n",
       "<table border=\"1\" class=\"dataframe\">\n",
       "  <thead>\n",
       "    <tr style=\"text-align: right;\">\n",
       "      <th></th>\n",
       "      <th>Checking Account</th>\n",
       "      <th>Duration</th>\n",
       "      <th>Credit History</th>\n",
       "      <th>Purpose</th>\n",
       "      <th>Credit Amount</th>\n",
       "      <th>Saving Account</th>\n",
       "      <th>Employment Status</th>\n",
       "      <th>Installment Rate</th>\n",
       "      <th>Personal Status</th>\n",
       "      <th>Guarantors</th>\n",
       "      <th>Years in current address</th>\n",
       "      <th>Property</th>\n",
       "      <th>Age</th>\n",
       "      <th>Installment plans</th>\n",
       "      <th>Housing</th>\n",
       "      <th>Existing Credits</th>\n",
       "      <th>Job</th>\n",
       "      <th>Liable</th>\n",
       "      <th>Risk</th>\n",
       "    </tr>\n",
       "  </thead>\n",
       "  <tbody>\n",
       "    <tr>\n",
       "      <th>0</th>\n",
       "      <td>A11</td>\n",
       "      <td>6</td>\n",
       "      <td>A34</td>\n",
       "      <td>A43</td>\n",
       "      <td>1169</td>\n",
       "      <td>A65</td>\n",
       "      <td>A75</td>\n",
       "      <td>4</td>\n",
       "      <td>A93</td>\n",
       "      <td>A101</td>\n",
       "      <td>4</td>\n",
       "      <td>A121</td>\n",
       "      <td>67</td>\n",
       "      <td>A143</td>\n",
       "      <td>A152</td>\n",
       "      <td>2</td>\n",
       "      <td>A173</td>\n",
       "      <td>1</td>\n",
       "      <td>good</td>\n",
       "    </tr>\n",
       "    <tr>\n",
       "      <th>1</th>\n",
       "      <td>A12</td>\n",
       "      <td>48</td>\n",
       "      <td>A32</td>\n",
       "      <td>A43</td>\n",
       "      <td>5951</td>\n",
       "      <td>A61</td>\n",
       "      <td>A73</td>\n",
       "      <td>2</td>\n",
       "      <td>A92</td>\n",
       "      <td>A101</td>\n",
       "      <td>2</td>\n",
       "      <td>A121</td>\n",
       "      <td>22</td>\n",
       "      <td>A143</td>\n",
       "      <td>A152</td>\n",
       "      <td>1</td>\n",
       "      <td>A173</td>\n",
       "      <td>1</td>\n",
       "      <td>bad</td>\n",
       "    </tr>\n",
       "    <tr>\n",
       "      <th>2</th>\n",
       "      <td>A14</td>\n",
       "      <td>12</td>\n",
       "      <td>A34</td>\n",
       "      <td>A46</td>\n",
       "      <td>2096</td>\n",
       "      <td>A61</td>\n",
       "      <td>A74</td>\n",
       "      <td>2</td>\n",
       "      <td>A93</td>\n",
       "      <td>A101</td>\n",
       "      <td>3</td>\n",
       "      <td>A121</td>\n",
       "      <td>49</td>\n",
       "      <td>A143</td>\n",
       "      <td>A152</td>\n",
       "      <td>1</td>\n",
       "      <td>A172</td>\n",
       "      <td>2</td>\n",
       "      <td>good</td>\n",
       "    </tr>\n",
       "    <tr>\n",
       "      <th>3</th>\n",
       "      <td>A11</td>\n",
       "      <td>42</td>\n",
       "      <td>A32</td>\n",
       "      <td>A42</td>\n",
       "      <td>7882</td>\n",
       "      <td>A61</td>\n",
       "      <td>A74</td>\n",
       "      <td>2</td>\n",
       "      <td>A93</td>\n",
       "      <td>A103</td>\n",
       "      <td>4</td>\n",
       "      <td>A122</td>\n",
       "      <td>45</td>\n",
       "      <td>A143</td>\n",
       "      <td>A153</td>\n",
       "      <td>1</td>\n",
       "      <td>A173</td>\n",
       "      <td>2</td>\n",
       "      <td>good</td>\n",
       "    </tr>\n",
       "    <tr>\n",
       "      <th>4</th>\n",
       "      <td>A11</td>\n",
       "      <td>24</td>\n",
       "      <td>A33</td>\n",
       "      <td>A40</td>\n",
       "      <td>4870</td>\n",
       "      <td>A61</td>\n",
       "      <td>A73</td>\n",
       "      <td>3</td>\n",
       "      <td>A93</td>\n",
       "      <td>A101</td>\n",
       "      <td>4</td>\n",
       "      <td>A124</td>\n",
       "      <td>53</td>\n",
       "      <td>A143</td>\n",
       "      <td>A153</td>\n",
       "      <td>2</td>\n",
       "      <td>A173</td>\n",
       "      <td>2</td>\n",
       "      <td>bad</td>\n",
       "    </tr>\n",
       "  </tbody>\n",
       "</table>\n",
       "</div>"
      ],
      "text/plain": [
       "  Checking Account  Duration Credit History Purpose  Credit Amount  \\\n",
       "0              A11         6            A34     A43           1169   \n",
       "1              A12        48            A32     A43           5951   \n",
       "2              A14        12            A34     A46           2096   \n",
       "3              A11        42            A32     A42           7882   \n",
       "4              A11        24            A33     A40           4870   \n",
       "\n",
       "  Saving Account Employment Status  Installment Rate Personal Status  \\\n",
       "0            A65               A75                 4             A93   \n",
       "1            A61               A73                 2             A92   \n",
       "2            A61               A74                 2             A93   \n",
       "3            A61               A74                 2             A93   \n",
       "4            A61               A73                 3             A93   \n",
       "\n",
       "  Guarantors  Years in current address Property  Age Installment plans  \\\n",
       "0       A101                         4     A121   67              A143   \n",
       "1       A101                         2     A121   22              A143   \n",
       "2       A101                         3     A121   49              A143   \n",
       "3       A103                         4     A122   45              A143   \n",
       "4       A101                         4     A124   53              A143   \n",
       "\n",
       "  Housing  Existing Credits   Job  Liable  Risk  \n",
       "0    A152                 2  A173       1  good  \n",
       "1    A152                 1  A173       1   bad  \n",
       "2    A152                 1  A172       2  good  \n",
       "3    A153                 1  A173       2  good  \n",
       "4    A153                 2  A173       2   bad  "
      ]
     },
     "execution_count": 6,
     "metadata": {},
     "output_type": "execute_result"
    }
   ],
   "source": [
    "df.head()"
   ]
  },
  {
   "cell_type": "code",
   "execution_count": 7,
   "metadata": {},
   "outputs": [
    {
     "data": {
      "text/plain": [
       "<matplotlib.axes._subplots.AxesSubplot at 0x7fcbddbe5520>"
      ]
     },
     "execution_count": 7,
     "metadata": {},
     "output_type": "execute_result"
    },
    {
     "data": {
      "image/png": "[encoded data removed]",
      "text/plain": [
       "<Figure size 432x288 with 1 Axes>"
      ]
     },
     "metadata": {
      "needs_background": "light"
     },
     "output_type": "display_data"
    }
   ],
   "source": [
    "sns.countplot(df['Risk'])"
   ]
  },
  {
   "cell_type": "markdown",
   "metadata": {},
   "source": [
    "***The original dataset is hard to understand. So we are going to decode the fields to an easier to understand format***"
   ]
  },
  {
   "cell_type": "code",
   "execution_count": 8,
   "metadata": {},
   "outputs": [],
   "source": [
    "decode_map = {'A11': 'little', 'A12': 'moderate', 'A13': 'rich', 'A14': 'No Account',\n",
    "              'A30': 'paid back', 'A31': 'paid back', 'A32': 'paid back', \n",
    "              'A33': 'delay', 'A34': 'default',\n",
    "              'A40' : 'car',\n",
    "              'A41' : 'car',\n",
    "              'A42' : 'furniture/equipment',\n",
    "              'A43' : 'radio/television',\n",
    "              'A44' : 'domestic appliances',\n",
    "              'A45' : 'repairs',\n",
    "              'A46' : 'education',\n",
    "              'A47' : 'vacation',\n",
    "              'A48' : 'retraining',\n",
    "              'A49' : 'business',\n",
    "              'A410' : 'others',\n",
    "              'A61' :  'little',\n",
    "              'A62' :  'moderate',\n",
    "              'A63' :  'quite rich',\n",
    "              'A64' :  'rich',\n",
    "              'A65' :  'unknown',\n",
    "              \n",
    "              'A71' : 'unemployed',\n",
    "              'A72' : '< 1 year',\n",
    "              'A73' : '1 to <4 years',\n",
    "              'A74': '4 to <7 years',\n",
    "              'A75' : '>= 7 years',\n",
    "\n",
    "              'A91' : 'male   : divorced/separated',\n",
    "              'A92' : 'female : divorced/separated/married',\n",
    "              'A93' : 'male   : single',\n",
    "              'A94' : 'male   : married/widowed',\n",
    "              'A95' : 'female : single',\n",
    "              \n",
    "              'A101' : 'none',\n",
    "              'A102' : 'co-applicant',\n",
    "              'A103' : 'guarantor',\n",
    "\n",
    "              'A121' : 'real estate',\n",
    "              'A122' : 'life insurance',\n",
    "              'A123' : 'car',\n",
    "              'A124' : 'no property',\n",
    "              \n",
    "              'A141' : 'bank',\n",
    "              'A142' : 'stores',\n",
    "              'A143' : 'none',\n",
    "              'A151' : 'rent',\n",
    "              'A152' : 'own',\n",
    "              'A153' : 'for free',\n",
    "\n",
    "\n",
    "              'A171' : 'unemployed/non-resident',\n",
    "              'A172' : 'unskilled/resident',\n",
    "              'A173' : 'skilled employee',\n",
    "              'A174' : 'management/highly qualified employee',\n",
    "            \n",
    "             }"
   ]
  },
  {
   "cell_type": "code",
   "execution_count": 9,
   "metadata": {},
   "outputs": [],
   "source": [
    "for col in df.columns:\n",
    "    df[col] = df[col].apply(lambda x: decode_map[x] if x in decode_map.keys() else x)"
   ]
  },
  {
   "cell_type": "code",
   "execution_count": 10,
   "metadata": {},
   "outputs": [
    {
     "data": {
      "text/html": [
       "<div>\n",
       "<style scoped>\n",
       "    .dataframe tbody tr th:only-of-type {\n",
       "        vertical-align: middle;\n",
       "    }\n",
       "\n",
       "    .dataframe tbody tr th {\n",
       "        vertical-align: top;\n",
       "    }\n",
       "\n",
       "    .dataframe thead th {\n",
       "        text-align: right;\n",
       "    }\n",
       "</style>\n",
       "<table border=\"1\" class=\"dataframe\">\n",
       "  <thead>\n",
       "    <tr style=\"text-align: right;\">\n",
       "      <th></th>\n",
       "      <th>Checking Account</th>\n",
       "      <th>Duration</th>\n",
       "      <th>Credit History</th>\n",
       "      <th>Purpose</th>\n",
       "      <th>Credit Amount</th>\n",
       "      <th>Saving Account</th>\n",
       "      <th>Employment Status</th>\n",
       "      <th>Installment Rate</th>\n",
       "      <th>Personal Status</th>\n",
       "      <th>Guarantors</th>\n",
       "      <th>Years in current address</th>\n",
       "      <th>Property</th>\n",
       "      <th>Age</th>\n",
       "      <th>Installment plans</th>\n",
       "      <th>Housing</th>\n",
       "      <th>Existing Credits</th>\n",
       "      <th>Job</th>\n",
       "      <th>Liable</th>\n",
       "      <th>Risk</th>\n",
       "    </tr>\n",
       "  </thead>\n",
       "  <tbody>\n",
       "    <tr>\n",
       "      <th>0</th>\n",
       "      <td>little</td>\n",
       "      <td>6</td>\n",
       "      <td>default</td>\n",
       "      <td>radio/television</td>\n",
       "      <td>1169</td>\n",
       "      <td>unknown</td>\n",
       "      <td>&gt;= 7 years</td>\n",
       "      <td>4</td>\n",
       "      <td>male   : single</td>\n",
       "      <td>none</td>\n",
       "      <td>4</td>\n",
       "      <td>real estate</td>\n",
       "      <td>67</td>\n",
       "      <td>none</td>\n",
       "      <td>own</td>\n",
       "      <td>2</td>\n",
       "      <td>skilled employee</td>\n",
       "      <td>1</td>\n",
       "      <td>good</td>\n",
       "    </tr>\n",
       "    <tr>\n",
       "      <th>1</th>\n",
       "      <td>moderate</td>\n",
       "      <td>48</td>\n",
       "      <td>paid back</td>\n",
       "      <td>radio/television</td>\n",
       "      <td>5951</td>\n",
       "      <td>little</td>\n",
       "      <td>1 to &lt;4 years</td>\n",
       "      <td>2</td>\n",
       "      <td>female : divorced/separated/married</td>\n",
       "      <td>none</td>\n",
       "      <td>2</td>\n",
       "      <td>real estate</td>\n",
       "      <td>22</td>\n",
       "      <td>none</td>\n",
       "      <td>own</td>\n",
       "      <td>1</td>\n",
       "      <td>skilled employee</td>\n",
       "      <td>1</td>\n",
       "      <td>bad</td>\n",
       "    </tr>\n",
       "    <tr>\n",
       "      <th>2</th>\n",
       "      <td>No Account</td>\n",
       "      <td>12</td>\n",
       "      <td>default</td>\n",
       "      <td>education</td>\n",
       "      <td>2096</td>\n",
       "      <td>little</td>\n",
       "      <td>4 to &lt;7 years</td>\n",
       "      <td>2</td>\n",
       "      <td>male   : single</td>\n",
       "      <td>none</td>\n",
       "      <td>3</td>\n",
       "      <td>real estate</td>\n",
       "      <td>49</td>\n",
       "      <td>none</td>\n",
       "      <td>own</td>\n",
       "      <td>1</td>\n",
       "      <td>unskilled/resident</td>\n",
       "      <td>2</td>\n",
       "      <td>good</td>\n",
       "    </tr>\n",
       "    <tr>\n",
       "      <th>3</th>\n",
       "      <td>little</td>\n",
       "      <td>42</td>\n",
       "      <td>paid back</td>\n",
       "      <td>furniture/equipment</td>\n",
       "      <td>7882</td>\n",
       "      <td>little</td>\n",
       "      <td>4 to &lt;7 years</td>\n",
       "      <td>2</td>\n",
       "      <td>male   : single</td>\n",
       "      <td>guarantor</td>\n",
       "      <td>4</td>\n",
       "      <td>life insurance</td>\n",
       "      <td>45</td>\n",
       "      <td>none</td>\n",
       "      <td>for free</td>\n",
       "      <td>1</td>\n",
       "      <td>skilled employee</td>\n",
       "      <td>2</td>\n",
       "      <td>good</td>\n",
       "    </tr>\n",
       "    <tr>\n",
       "      <th>4</th>\n",
       "      <td>little</td>\n",
       "      <td>24</td>\n",
       "      <td>delay</td>\n",
       "      <td>car</td>\n",
       "      <td>4870</td>\n",
       "      <td>little</td>\n",
       "      <td>1 to &lt;4 years</td>\n",
       "      <td>3</td>\n",
       "      <td>male   : single</td>\n",
       "      <td>none</td>\n",
       "      <td>4</td>\n",
       "      <td>no property</td>\n",
       "      <td>53</td>\n",
       "      <td>none</td>\n",
       "      <td>for free</td>\n",
       "      <td>2</td>\n",
       "      <td>skilled employee</td>\n",
       "      <td>2</td>\n",
       "      <td>bad</td>\n",
       "    </tr>\n",
       "  </tbody>\n",
       "</table>\n",
       "</div>"
      ],
      "text/plain": [
       "  Checking Account  Duration Credit History              Purpose  \\\n",
       "0           little         6        default     radio/television   \n",
       "1         moderate        48      paid back     radio/television   \n",
       "2       No Account        12        default            education   \n",
       "3           little        42      paid back  furniture/equipment   \n",
       "4           little        24          delay                  car   \n",
       "\n",
       "   Credit Amount Saving Account Employment Status  Installment Rate  \\\n",
       "0           1169        unknown        >= 7 years                 4   \n",
       "1           5951         little     1 to <4 years                 2   \n",
       "2           2096         little     4 to <7 years                 2   \n",
       "3           7882         little     4 to <7 years                 2   \n",
       "4           4870         little     1 to <4 years                 3   \n",
       "\n",
       "                       Personal Status Guarantors  Years in current address  \\\n",
       "0                      male   : single       none                         4   \n",
       "1  female : divorced/separated/married       none                         2   \n",
       "2                      male   : single       none                         3   \n",
       "3                      male   : single  guarantor                         4   \n",
       "4                      male   : single       none                         4   \n",
       "\n",
       "         Property  Age Installment plans   Housing  Existing Credits  \\\n",
       "0     real estate   67              none       own                 2   \n",
       "1     real estate   22              none       own                 1   \n",
       "2     real estate   49              none       own                 1   \n",
       "3  life insurance   45              none  for free                 1   \n",
       "4     no property   53              none  for free                 2   \n",
       "\n",
       "                  Job  Liable  Risk  \n",
       "0    skilled employee       1  good  \n",
       "1    skilled employee       1   bad  \n",
       "2  unskilled/resident       2  good  \n",
       "3    skilled employee       2  good  \n",
       "4    skilled employee       2   bad  "
      ]
     },
     "execution_count": 10,
     "metadata": {},
     "output_type": "execute_result"
    }
   ],
   "source": [
    "df.head()"
   ]
  },
  {
   "cell_type": "code",
   "execution_count": 11,
   "metadata": {},
   "outputs": [
    {
     "data": {
      "text/plain": [
       "(1003, 19)"
      ]
     },
     "execution_count": 11,
     "metadata": {},
     "output_type": "execute_result"
    }
   ],
   "source": [
    "df.shape"
   ]
  },
  {
   "cell_type": "markdown",
   "metadata": {},
   "source": [
    "***Now you can start from this dataset***"
   ]
  },
  {
   "cell_type": "markdown",
   "metadata": {},
   "source": [
    "### Good Luck !!!"
   ]
  },
  {
   "cell_type": "markdown",
   "metadata": {},
   "source": [
    "Show all your work below"
   ]
  },
  {
   "cell_type": "markdown",
   "metadata": {},
   "source": [
    "### EDA and basic exploration"
   ]
  },
  {
   "cell_type": "code",
   "execution_count": 12,
   "metadata": {},
   "outputs": [
    {
     "data": {
      "text/plain": [
       "Checking Account            0\n",
       "Duration                    0\n",
       "Credit History              1\n",
       "Purpose                     0\n",
       "Credit Amount               0\n",
       "Saving Account              0\n",
       "Employment Status           0\n",
       "Installment Rate            0\n",
       "Personal Status             0\n",
       "Guarantors                  0\n",
       "Years in current address    0\n",
       "Property                    0\n",
       "Age                         0\n",
       "Installment plans           0\n",
       "Housing                     0\n",
       "Existing Credits            0\n",
       "Job                         1\n",
       "Liable                      0\n",
       "Risk                        0\n",
       "dtype: int64"
      ]
     },
     "execution_count": 12,
     "metadata": {},
     "output_type": "execute_result"
    }
   ],
   "source": [
    "df.isnull().sum()"
   ]
  },
  {
   "cell_type": "code",
   "execution_count": 13,
   "metadata": {},
   "outputs": [
    {
     "data": {
      "text/plain": [
       "Checking Account            0\n",
       "Duration                    0\n",
       "Credit History              0\n",
       "Purpose                     0\n",
       "Credit Amount               0\n",
       "Saving Account              0\n",
       "Employment Status           0\n",
       "Installment Rate            0\n",
       "Personal Status             0\n",
       "Guarantors                  0\n",
       "Years in current address    0\n",
       "Property                    0\n",
       "Age                         0\n",
       "Installment plans           0\n",
       "Housing                     0\n",
       "Existing Credits            0\n",
       "Job                         0\n",
       "Liable                      0\n",
       "Risk                        0\n",
       "dtype: int64"
      ]
     },
     "execution_count": 13,
     "metadata": {},
     "output_type": "execute_result"
    }
   ],
   "source": [
    "df = df.dropna()\n",
    "df.isnull().sum()"
   ]
  },
  {
   "cell_type": "code",
   "execution_count": 14,
   "metadata": {},
   "outputs": [
    {
     "data": {
      "text/plain": [
       "<matplotlib.axes._subplots.AxesSubplot at 0x7fcbe3963490>"
      ]
     },
     "execution_count": 14,
     "metadata": {},
     "output_type": "execute_result"
    },
    {
     "data": {
      "image/png": "[encoded data removed]",
      "text/plain": [
       "<Figure size 432x288 with 1 Axes>"
      ]
     },
     "metadata": {
      "needs_background": "light"
     },
     "output_type": "display_data"
    }
   ],
   "source": [
    "sns.boxplot(x=df['Duration'])"
   ]
  },
  {
   "cell_type": "code",
   "execution_count": 15,
   "metadata": {},
   "outputs": [
    {
     "data": {
      "text/plain": [
       "<matplotlib.axes._subplots.AxesSubplot at 0x7fcbe3a1b370>"
      ]
     },
     "execution_count": 15,
     "metadata": {},
     "output_type": "execute_result"
    },
    {
     "data": {
      "image/png": "[encoded data removed]",
      "text/plain": [
       "<Figure size 432x288 with 1 Axes>"
      ]
     },
     "metadata": {
      "needs_background": "light"
     },
     "output_type": "display_data"
    }
   ],
   "source": [
    "q_highest = df[\"Duration\"].quantile(0.98)\n",
    "df = df[(df['Duration']<q_highest)]\n",
    "sns.boxplot(x=df['Duration'])"
   ]
  },
  {
   "cell_type": "code",
   "execution_count": 16,
   "metadata": {},
   "outputs": [
    {
     "data": {
      "text/plain": [
       "<matplotlib.axes._subplots.AxesSubplot at 0x7fcbe3adc7c0>"
      ]
     },
     "execution_count": 16,
     "metadata": {},
     "output_type": "execute_result"
    },
    {
     "data": {
      "image/png": "[encoded data removed]",
      "text/plain": [
       "<Figure size 432x288 with 1 Axes>"
      ]
     },
     "metadata": {
      "needs_background": "light"
     },
     "output_type": "display_data"
    }
   ],
   "source": [
    "sns.boxplot(x=df['Installment Rate'])"
   ]
  },
  {
   "cell_type": "code",
   "execution_count": 17,
   "metadata": {},
   "outputs": [
    {
     "data": {
      "text/plain": [
       "<matplotlib.axes._subplots.AxesSubplot at 0x7fcbe3baa3a0>"
      ]
     },
     "execution_count": 17,
     "metadata": {},
     "output_type": "execute_result"
    },
    {
     "data": {
      "image/png": "[encoded data removed]",
      "text/plain": [
       "<Figure size 432x288 with 1 Axes>"
      ]
     },
     "metadata": {
      "needs_background": "light"
     },
     "output_type": "display_data"
    }
   ],
   "source": [
    "sns.boxplot(x=df['Existing Credits'])"
   ]
  },
  {
   "cell_type": "code",
   "execution_count": 18,
   "metadata": {},
   "outputs": [
    {
     "data": {
      "text/plain": [
       "<matplotlib.axes._subplots.AxesSubplot at 0x7fcbe3c58160>"
      ]
     },
     "execution_count": 18,
     "metadata": {},
     "output_type": "execute_result"
    },
    {
     "data": {
      "image/png": "[encoded data removed]",
      "text/plain": [
       "<Figure size 432x288 with 1 Axes>"
      ]
     },
     "metadata": {
      "needs_background": "light"
     },
     "output_type": "display_data"
    }
   ],
   "source": [
    "q_highest = df[\"Existing Credits\"].quantile(0.99)\n",
    "df = df[(df['Existing Credits']<q_highest)]\n",
    "sns.boxplot(x=df['Existing Credits'])"
   ]
  },
  {
   "cell_type": "code",
   "execution_count": 19,
   "metadata": {},
   "outputs": [
    {
     "data": {
      "text/plain": [
       "<matplotlib.axes._subplots.AxesSubplot at 0x7fcbe3d24190>"
      ]
     },
     "execution_count": 19,
     "metadata": {},
     "output_type": "execute_result"
    },
    {
     "data": {
      "image/png": "[encoded data removed]",
      "text/plain": [
       "<Figure size 432x288 with 1 Axes>"
      ]
     },
     "metadata": {
      "needs_background": "light"
     },
     "output_type": "display_data"
    }
   ],
   "source": [
    "sns.boxplot(x=df['Age'])"
   ]
  },
  {
   "cell_type": "code",
   "execution_count": 20,
   "metadata": {},
   "outputs": [
    {
     "data": {
      "text/plain": [
       "<matplotlib.axes._subplots.AxesSubplot at 0x7fcbe3ddc3d0>"
      ]
     },
     "execution_count": 20,
     "metadata": {},
     "output_type": "execute_result"
    },
    {
     "data": {
      "image/png": "[encoded data removed]",
      "text/plain": [
       "<Figure size 432x288 with 1 Axes>"
      ]
     },
     "metadata": {
      "needs_background": "light"
     },
     "output_type": "display_data"
    }
   ],
   "source": [
    "df = df[df.Age<=100]\n",
    "sns.boxplot(x=df['Age'])"
   ]
  },
  {
   "cell_type": "code",
   "execution_count": 21,
   "metadata": {},
   "outputs": [
    {
     "data": {
      "text/plain": [
       "<matplotlib.axes._subplots.AxesSubplot at 0x7fcbe3ea4400>"
      ]
     },
     "execution_count": 21,
     "metadata": {},
     "output_type": "execute_result"
    },
    {
     "data": {
      "image/png": "[encoded data removed]",
      "text/plain": [
       "<Figure size 432x288 with 1 Axes>"
      ]
     },
     "metadata": {
      "needs_background": "light"
     },
     "output_type": "display_data"
    }
   ],
   "source": [
    "sns.boxplot(x=df['Credit Amount'])"
   ]
  },
  {
   "cell_type": "code",
   "execution_count": 22,
   "metadata": {},
   "outputs": [
    {
     "data": {
      "text/plain": [
       "<matplotlib.axes._subplots.AxesSubplot at 0x7fcbe3f54d60>"
      ]
     },
     "execution_count": 22,
     "metadata": {},
     "output_type": "execute_result"
    },
    {
     "data": {
      "image/png": "[encoded data removed]",
      "text/plain": [
       "<Figure size 432x288 with 1 Axes>"
      ]
     },
     "metadata": {
      "needs_background": "light"
     },
     "output_type": "display_data"
    }
   ],
   "source": [
    "q_highest = df[\"Credit Amount\"].quantile(0.98)\n",
    "df = df[(df['Credit Amount']<q_highest)]\n",
    "sns.boxplot(x=df['Credit Amount'])"
   ]
  },
  {
   "cell_type": "code",
   "execution_count": 23,
   "metadata": {},
   "outputs": [
    {
     "data": {
      "text/html": [
       "<div>\n",
       "<style scoped>\n",
       "    .dataframe tbody tr th:only-of-type {\n",
       "        vertical-align: middle;\n",
       "    }\n",
       "\n",
       "    .dataframe tbody tr th {\n",
       "        vertical-align: top;\n",
       "    }\n",
       "\n",
       "    .dataframe thead th {\n",
       "        text-align: right;\n",
       "    }\n",
       "</style>\n",
       "<table border=\"1\" class=\"dataframe\">\n",
       "  <thead>\n",
       "    <tr style=\"text-align: right;\">\n",
       "      <th></th>\n",
       "      <th>Duration</th>\n",
       "      <th>Credit Amount</th>\n",
       "      <th>Installment Rate</th>\n",
       "      <th>Years in current address</th>\n",
       "      <th>Age</th>\n",
       "      <th>Existing Credits</th>\n",
       "      <th>Liable</th>\n",
       "    </tr>\n",
       "    <tr>\n",
       "      <th>Risk</th>\n",
       "      <th></th>\n",
       "      <th></th>\n",
       "      <th></th>\n",
       "      <th></th>\n",
       "      <th></th>\n",
       "      <th></th>\n",
       "      <th></th>\n",
       "    </tr>\n",
       "  </thead>\n",
       "  <tbody>\n",
       "    <tr>\n",
       "      <th>bad</th>\n",
       "      <td>21.061728</td>\n",
       "      <td>2842.069959</td>\n",
       "      <td>3.193416</td>\n",
       "      <td>2.781893</td>\n",
       "      <td>33.123457</td>\n",
       "      <td>1.316872</td>\n",
       "      <td>1.156379</td>\n",
       "    </tr>\n",
       "    <tr>\n",
       "      <th>good</th>\n",
       "      <td>17.864275</td>\n",
       "      <td>2691.237129</td>\n",
       "      <td>2.928237</td>\n",
       "      <td>2.836193</td>\n",
       "      <td>35.823713</td>\n",
       "      <td>1.361934</td>\n",
       "      <td>1.140406</td>\n",
       "    </tr>\n",
       "  </tbody>\n",
       "</table>\n",
       "</div>"
      ],
      "text/plain": [
       "       Duration  Credit Amount  Installment Rate  Years in current address  \\\n",
       "Risk                                                                         \n",
       "bad   21.061728    2842.069959          3.193416                  2.781893   \n",
       "good  17.864275    2691.237129          2.928237                  2.836193   \n",
       "\n",
       "            Age  Existing Credits    Liable  \n",
       "Risk                                         \n",
       "bad   33.123457          1.316872  1.156379  \n",
       "good  35.823713          1.361934  1.140406  "
      ]
     },
     "execution_count": 23,
     "metadata": {},
     "output_type": "execute_result"
    }
   ],
   "source": [
    "df.groupby('Risk').mean()"
   ]
  },
  {
   "cell_type": "code",
   "execution_count": 24,
   "metadata": {},
   "outputs": [
    {
     "data": {
      "text/plain": [
       "<matplotlib.axes._subplots.AxesSubplot at 0x7fcbe49346d0>"
      ]
     },
     "execution_count": 24,
     "metadata": {},
     "output_type": "execute_result"
    },
    {
     "data": {
      "image/png": "[encoded data removed]",
      "text/plain": [
       "<Figure size 432x288 with 1 Axes>"
      ]
     },
     "metadata": {
      "needs_background": "light"
     },
     "output_type": "display_data"
    }
   ],
   "source": [
    "sns.countplot(x='Risk', hue='Credit History', data= df)"
   ]
  },
  {
   "cell_type": "code",
   "execution_count": 25,
   "metadata": {},
   "outputs": [
    {
     "data": {
      "text/plain": [
       "<matplotlib.axes._subplots.AxesSubplot at 0x7fcbe4a00fd0>"
      ]
     },
     "execution_count": 25,
     "metadata": {},
     "output_type": "execute_result"
    },
    {
     "data": {
      "image/png": "[encoded data removed]",
      "text/plain": [
       "<Figure size 432x288 with 1 Axes>"
      ]
     },
     "metadata": {
      "needs_background": "light"
     },
     "output_type": "display_data"
    }
   ],
   "source": [
    "sns.countplot(x='Risk', hue='Checking Account', data= df)"
   ]
  },
  {
   "cell_type": "code",
   "execution_count": 26,
   "metadata": {},
   "outputs": [
    {
     "data": {
      "text/plain": [
       "<matplotlib.axes._subplots.AxesSubplot at 0x7fcbe4a92a30>"
      ]
     },
     "execution_count": 26,
     "metadata": {},
     "output_type": "execute_result"
    },
    {
     "data": {
      "image/png": "[encoded data removed]",
      "text/plain": [
       "<Figure size 432x288 with 1 Axes>"
      ]
     },
     "metadata": {
      "needs_background": "light"
     },
     "output_type": "display_data"
    }
   ],
   "source": [
    "sns.countplot(x='Risk', hue='Personal Status', data= df)"
   ]
  },
  {
   "cell_type": "code",
   "execution_count": 27,
   "metadata": {},
   "outputs": [
    {
     "data": {
      "text/plain": [
       "<matplotlib.axes._subplots.AxesSubplot at 0x7fcbe4c3ff40>"
      ]
     },
     "execution_count": 27,
     "metadata": {},
     "output_type": "execute_result"
    },
    {
     "data": {
      "image/png": "[encoded data removed]",
      "text/plain": [
       "<Figure size 432x288 with 1 Axes>"
      ]
     },
     "metadata": {
      "needs_background": "light"
     },
     "output_type": "display_data"
    }
   ],
   "source": [
    "sns.countplot(x='Risk', hue='Employment Status', data= df)"
   ]
  },
  {
   "cell_type": "code",
   "execution_count": 28,
   "metadata": {},
   "outputs": [
    {
     "data": {
      "text/plain": [
       "<matplotlib.axes._subplots.AxesSubplot at 0x7fcbe4e18730>"
      ]
     },
     "execution_count": 28,
     "metadata": {},
     "output_type": "execute_result"
    },
    {
     "data": {
      "image/png": "[encoded data removed]",
      "text/plain": [
       "<Figure size 432x288 with 1 Axes>"
      ]
     },
     "metadata": {
      "needs_background": "light"
     },
     "output_type": "display_data"
    }
   ],
   "source": [
    "sns.countplot(x='Risk', hue='Job', data= df)"
   ]
  },
  {
   "cell_type": "code",
   "execution_count": 29,
   "metadata": {},
   "outputs": [
    {
     "data": {
      "text/plain": [
       "<matplotlib.axes._subplots.AxesSubplot at 0x7fcbe4eff220>"
      ]
     },
     "execution_count": 29,
     "metadata": {},
     "output_type": "execute_result"
    },
    {
     "data": {
      "image/png": "[encoded data removed]",
      "text/plain": [
       "<Figure size 432x288 with 1 Axes>"
      ]
     },
     "metadata": {
      "needs_background": "light"
     },
     "output_type": "display_data"
    }
   ],
   "source": [
    "sns.countplot(x='Risk', hue='Purpose', data= df)"
   ]
  },
  {
   "cell_type": "markdown",
   "metadata": {},
   "source": [
    "### Dummy variable to take care categorical variables and Nomalization of numerical features"
   ]
  },
  {
   "cell_type": "code",
   "execution_count": 30,
   "metadata": {},
   "outputs": [
    {
     "data": {
      "text/html": [
       "<div>\n",
       "<style scoped>\n",
       "    .dataframe tbody tr th:only-of-type {\n",
       "        vertical-align: middle;\n",
       "    }\n",
       "\n",
       "    .dataframe tbody tr th {\n",
       "        vertical-align: top;\n",
       "    }\n",
       "\n",
       "    .dataframe thead th {\n",
       "        text-align: right;\n",
       "    }\n",
       "</style>\n",
       "<table border=\"1\" class=\"dataframe\">\n",
       "  <thead>\n",
       "    <tr style=\"text-align: right;\">\n",
       "      <th></th>\n",
       "      <th>Age</th>\n",
       "      <th>Credit Amount</th>\n",
       "      <th>Existing Credits</th>\n",
       "      <th>Installment Rate</th>\n",
       "      <th>Duration</th>\n",
       "    </tr>\n",
       "  </thead>\n",
       "  <tbody>\n",
       "    <tr>\n",
       "      <th>0</th>\n",
       "      <td>0.857143</td>\n",
       "      <td>0.087758</td>\n",
       "      <td>1.0</td>\n",
       "      <td>1.000000</td>\n",
       "      <td>0.046512</td>\n",
       "    </tr>\n",
       "    <tr>\n",
       "      <th>2</th>\n",
       "      <td>0.535714</td>\n",
       "      <td>0.176280</td>\n",
       "      <td>0.0</td>\n",
       "      <td>0.333333</td>\n",
       "      <td>0.186047</td>\n",
       "    </tr>\n",
       "    <tr>\n",
       "      <th>3</th>\n",
       "      <td>0.464286</td>\n",
       "      <td>0.728801</td>\n",
       "      <td>0.0</td>\n",
       "      <td>0.333333</td>\n",
       "      <td>0.883721</td>\n",
       "    </tr>\n",
       "    <tr>\n",
       "      <th>4</th>\n",
       "      <td>0.607143</td>\n",
       "      <td>0.441176</td>\n",
       "      <td>1.0</td>\n",
       "      <td>0.666667</td>\n",
       "      <td>0.465116</td>\n",
       "    </tr>\n",
       "    <tr>\n",
       "      <th>5</th>\n",
       "      <td>0.285714</td>\n",
       "      <td>0.840814</td>\n",
       "      <td>0.0</td>\n",
       "      <td>0.333333</td>\n",
       "      <td>0.744186</td>\n",
       "    </tr>\n",
       "  </tbody>\n",
       "</table>\n",
       "</div>"
      ],
      "text/plain": [
       "        Age  Credit Amount  Existing Credits  Installment Rate  Duration\n",
       "0  0.857143       0.087758               1.0          1.000000  0.046512\n",
       "2  0.535714       0.176280               0.0          0.333333  0.186047\n",
       "3  0.464286       0.728801               0.0          0.333333  0.883721\n",
       "4  0.607143       0.441176               1.0          0.666667  0.465116\n",
       "5  0.285714       0.840814               0.0          0.333333  0.744186"
      ]
     },
     "execution_count": 30,
     "metadata": {},
     "output_type": "execute_result"
    }
   ],
   "source": [
    "from sklearn.preprocessing import MinMaxScaler\n",
    "numerical_features = ['Age', 'Credit Amount', 'Existing Credits','Installment Rate','Duration']\n",
    "numerical_df = df[numerical_features]\n",
    "for column in numerical_df.columns.tolist():\n",
    "    numerical_df[column] = MinMaxScaler().fit_transform(np.array(numerical_df[column]).reshape(-1,1))\n",
    "\n",
    "numerical_df.head()\n"
   ]
  },
  {
   "cell_type": "code",
   "execution_count": 31,
   "metadata": {},
   "outputs": [],
   "source": [
    "purpose_dum = pd.get_dummies(df['Purpose'],drop_first=True)\n",
    "credit_hist_dum = pd.get_dummies(df['Credit History'],drop_first=True)\n",
    "checking_account_dum = pd.get_dummies(df['Checking Account'],drop_first=True)\n",
    "personal_status_dum = pd.get_dummies(df['Personal Status'],drop_first=True)\n",
    "employment_status_dum = pd.get_dummies(df['Employment Status'],drop_first=True)\n",
    "job_dum = pd.get_dummies(df['Job'],drop_first=True)\n",
    "housing_dum = pd.get_dummies(df['Housing'],drop_first=True)\n",
    "property_dum = pd.get_dummies(df['Property'],drop_first=True)"
   ]
  },
  {
   "cell_type": "code",
   "execution_count": 32,
   "metadata": {},
   "outputs": [
    {
     "data": {
      "text/html": [
       "<div>\n",
       "<style scoped>\n",
       "    .dataframe tbody tr th:only-of-type {\n",
       "        vertical-align: middle;\n",
       "    }\n",
       "\n",
       "    .dataframe tbody tr th {\n",
       "        vertical-align: top;\n",
       "    }\n",
       "\n",
       "    .dataframe thead th {\n",
       "        text-align: right;\n",
       "    }\n",
       "</style>\n",
       "<table border=\"1\" class=\"dataframe\">\n",
       "  <thead>\n",
       "    <tr style=\"text-align: right;\">\n",
       "      <th></th>\n",
       "      <th>car</th>\n",
       "      <th>domestic appliances</th>\n",
       "      <th>education</th>\n",
       "      <th>furniture/equipment</th>\n",
       "      <th>others</th>\n",
       "      <th>radio/television</th>\n",
       "      <th>repairs</th>\n",
       "      <th>retraining</th>\n",
       "    </tr>\n",
       "  </thead>\n",
       "  <tbody>\n",
       "    <tr>\n",
       "      <th>0</th>\n",
       "      <td>0</td>\n",
       "      <td>0</td>\n",
       "      <td>0</td>\n",
       "      <td>0</td>\n",
       "      <td>0</td>\n",
       "      <td>1</td>\n",
       "      <td>0</td>\n",
       "      <td>0</td>\n",
       "    </tr>\n",
       "    <tr>\n",
       "      <th>2</th>\n",
       "      <td>0</td>\n",
       "      <td>0</td>\n",
       "      <td>1</td>\n",
       "      <td>0</td>\n",
       "      <td>0</td>\n",
       "      <td>0</td>\n",
       "      <td>0</td>\n",
       "      <td>0</td>\n",
       "    </tr>\n",
       "    <tr>\n",
       "      <th>3</th>\n",
       "      <td>0</td>\n",
       "      <td>0</td>\n",
       "      <td>0</td>\n",
       "      <td>1</td>\n",
       "      <td>0</td>\n",
       "      <td>0</td>\n",
       "      <td>0</td>\n",
       "      <td>0</td>\n",
       "    </tr>\n",
       "    <tr>\n",
       "      <th>4</th>\n",
       "      <td>1</td>\n",
       "      <td>0</td>\n",
       "      <td>0</td>\n",
       "      <td>0</td>\n",
       "      <td>0</td>\n",
       "      <td>0</td>\n",
       "      <td>0</td>\n",
       "      <td>0</td>\n",
       "    </tr>\n",
       "    <tr>\n",
       "      <th>5</th>\n",
       "      <td>0</td>\n",
       "      <td>0</td>\n",
       "      <td>1</td>\n",
       "      <td>0</td>\n",
       "      <td>0</td>\n",
       "      <td>0</td>\n",
       "      <td>0</td>\n",
       "      <td>0</td>\n",
       "    </tr>\n",
       "  </tbody>\n",
       "</table>\n",
       "</div>"
      ],
      "text/plain": [
       "   car  domestic appliances  education  furniture/equipment  others  \\\n",
       "0    0                    0          0                    0       0   \n",
       "2    0                    0          1                    0       0   \n",
       "3    0                    0          0                    1       0   \n",
       "4    1                    0          0                    0       0   \n",
       "5    0                    0          1                    0       0   \n",
       "\n",
       "   radio/television  repairs  retraining  \n",
       "0                 1        0           0  \n",
       "2                 0        0           0  \n",
       "3                 0        0           0  \n",
       "4                 0        0           0  \n",
       "5                 0        0           0  "
      ]
     },
     "execution_count": 32,
     "metadata": {},
     "output_type": "execute_result"
    }
   ],
   "source": [
    "purpose_dum.head()"
   ]
  },
  {
   "cell_type": "code",
   "execution_count": 33,
   "metadata": {},
   "outputs": [
    {
     "data": {
      "text/html": [
       "<div>\n",
       "<style scoped>\n",
       "    .dataframe tbody tr th:only-of-type {\n",
       "        vertical-align: middle;\n",
       "    }\n",
       "\n",
       "    .dataframe tbody tr th {\n",
       "        vertical-align: top;\n",
       "    }\n",
       "\n",
       "    .dataframe thead th {\n",
       "        text-align: right;\n",
       "    }\n",
       "</style>\n",
       "<table border=\"1\" class=\"dataframe\">\n",
       "  <thead>\n",
       "    <tr style=\"text-align: right;\">\n",
       "      <th></th>\n",
       "      <th>Age</th>\n",
       "      <th>Credit Amount</th>\n",
       "      <th>Existing Credits</th>\n",
       "      <th>Installment Rate</th>\n",
       "      <th>Duration</th>\n",
       "      <th>delay</th>\n",
       "      <th>paid back</th>\n",
       "      <th>4 to &lt;7 years</th>\n",
       "      <th>&lt; 1 year</th>\n",
       "      <th>&gt;= 7 years</th>\n",
       "      <th>...</th>\n",
       "      <th>rich</th>\n",
       "      <th>skilled employee</th>\n",
       "      <th>unemployed/non-resident</th>\n",
       "      <th>unskilled/resident</th>\n",
       "      <th>own</th>\n",
       "      <th>rent</th>\n",
       "      <th>life insurance</th>\n",
       "      <th>no property</th>\n",
       "      <th>real estate</th>\n",
       "      <th>Risk</th>\n",
       "    </tr>\n",
       "  </thead>\n",
       "  <tbody>\n",
       "    <tr>\n",
       "      <th>0</th>\n",
       "      <td>0.857143</td>\n",
       "      <td>0.087758</td>\n",
       "      <td>1.0</td>\n",
       "      <td>1.000000</td>\n",
       "      <td>0.046512</td>\n",
       "      <td>0</td>\n",
       "      <td>0</td>\n",
       "      <td>0</td>\n",
       "      <td>0</td>\n",
       "      <td>1</td>\n",
       "      <td>...</td>\n",
       "      <td>0</td>\n",
       "      <td>1</td>\n",
       "      <td>0</td>\n",
       "      <td>0</td>\n",
       "      <td>1</td>\n",
       "      <td>0</td>\n",
       "      <td>0</td>\n",
       "      <td>0</td>\n",
       "      <td>1</td>\n",
       "      <td>good</td>\n",
       "    </tr>\n",
       "    <tr>\n",
       "      <th>2</th>\n",
       "      <td>0.535714</td>\n",
       "      <td>0.176280</td>\n",
       "      <td>0.0</td>\n",
       "      <td>0.333333</td>\n",
       "      <td>0.186047</td>\n",
       "      <td>0</td>\n",
       "      <td>0</td>\n",
       "      <td>1</td>\n",
       "      <td>0</td>\n",
       "      <td>0</td>\n",
       "      <td>...</td>\n",
       "      <td>0</td>\n",
       "      <td>0</td>\n",
       "      <td>0</td>\n",
       "      <td>1</td>\n",
       "      <td>1</td>\n",
       "      <td>0</td>\n",
       "      <td>0</td>\n",
       "      <td>0</td>\n",
       "      <td>1</td>\n",
       "      <td>good</td>\n",
       "    </tr>\n",
       "    <tr>\n",
       "      <th>3</th>\n",
       "      <td>0.464286</td>\n",
       "      <td>0.728801</td>\n",
       "      <td>0.0</td>\n",
       "      <td>0.333333</td>\n",
       "      <td>0.883721</td>\n",
       "      <td>0</td>\n",
       "      <td>1</td>\n",
       "      <td>1</td>\n",
       "      <td>0</td>\n",
       "      <td>0</td>\n",
       "      <td>...</td>\n",
       "      <td>0</td>\n",
       "      <td>1</td>\n",
       "      <td>0</td>\n",
       "      <td>0</td>\n",
       "      <td>0</td>\n",
       "      <td>0</td>\n",
       "      <td>1</td>\n",
       "      <td>0</td>\n",
       "      <td>0</td>\n",
       "      <td>good</td>\n",
       "    </tr>\n",
       "    <tr>\n",
       "      <th>4</th>\n",
       "      <td>0.607143</td>\n",
       "      <td>0.441176</td>\n",
       "      <td>1.0</td>\n",
       "      <td>0.666667</td>\n",
       "      <td>0.465116</td>\n",
       "      <td>1</td>\n",
       "      <td>0</td>\n",
       "      <td>0</td>\n",
       "      <td>0</td>\n",
       "      <td>0</td>\n",
       "      <td>...</td>\n",
       "      <td>0</td>\n",
       "      <td>1</td>\n",
       "      <td>0</td>\n",
       "      <td>0</td>\n",
       "      <td>0</td>\n",
       "      <td>0</td>\n",
       "      <td>0</td>\n",
       "      <td>1</td>\n",
       "      <td>0</td>\n",
       "      <td>bad</td>\n",
       "    </tr>\n",
       "    <tr>\n",
       "      <th>5</th>\n",
       "      <td>0.285714</td>\n",
       "      <td>0.840814</td>\n",
       "      <td>0.0</td>\n",
       "      <td>0.333333</td>\n",
       "      <td>0.744186</td>\n",
       "      <td>0</td>\n",
       "      <td>1</td>\n",
       "      <td>0</td>\n",
       "      <td>0</td>\n",
       "      <td>0</td>\n",
       "      <td>...</td>\n",
       "      <td>0</td>\n",
       "      <td>0</td>\n",
       "      <td>0</td>\n",
       "      <td>1</td>\n",
       "      <td>0</td>\n",
       "      <td>0</td>\n",
       "      <td>0</td>\n",
       "      <td>1</td>\n",
       "      <td>0</td>\n",
       "      <td>good</td>\n",
       "    </tr>\n",
       "    <tr>\n",
       "      <th>...</th>\n",
       "      <td>...</td>\n",
       "      <td>...</td>\n",
       "      <td>...</td>\n",
       "      <td>...</td>\n",
       "      <td>...</td>\n",
       "      <td>...</td>\n",
       "      <td>...</td>\n",
       "      <td>...</td>\n",
       "      <td>...</td>\n",
       "      <td>...</td>\n",
       "      <td>...</td>\n",
       "      <td>...</td>\n",
       "      <td>...</td>\n",
       "      <td>...</td>\n",
       "      <td>...</td>\n",
       "      <td>...</td>\n",
       "      <td>...</td>\n",
       "      <td>...</td>\n",
       "      <td>...</td>\n",
       "      <td>...</td>\n",
       "      <td>...</td>\n",
       "    </tr>\n",
       "    <tr>\n",
       "      <th>997</th>\n",
       "      <td>0.214286</td>\n",
       "      <td>0.141902</td>\n",
       "      <td>0.0</td>\n",
       "      <td>0.666667</td>\n",
       "      <td>0.186047</td>\n",
       "      <td>0</td>\n",
       "      <td>1</td>\n",
       "      <td>1</td>\n",
       "      <td>0</td>\n",
       "      <td>0</td>\n",
       "      <td>...</td>\n",
       "      <td>0</td>\n",
       "      <td>0</td>\n",
       "      <td>0</td>\n",
       "      <td>1</td>\n",
       "      <td>1</td>\n",
       "      <td>0</td>\n",
       "      <td>0</td>\n",
       "      <td>0</td>\n",
       "      <td>1</td>\n",
       "      <td>good</td>\n",
       "    </tr>\n",
       "    <tr>\n",
       "      <th>998</th>\n",
       "      <td>0.375000</td>\n",
       "      <td>0.344442</td>\n",
       "      <td>0.0</td>\n",
       "      <td>1.000000</td>\n",
       "      <td>0.604651</td>\n",
       "      <td>0</td>\n",
       "      <td>1</td>\n",
       "      <td>0</td>\n",
       "      <td>0</td>\n",
       "      <td>0</td>\n",
       "      <td>...</td>\n",
       "      <td>0</td>\n",
       "      <td>0</td>\n",
       "      <td>0</td>\n",
       "      <td>0</td>\n",
       "      <td>1</td>\n",
       "      <td>0</td>\n",
       "      <td>1</td>\n",
       "      <td>0</td>\n",
       "      <td>0</td>\n",
       "      <td>good</td>\n",
       "    </tr>\n",
       "    <tr>\n",
       "      <th>999</th>\n",
       "      <td>0.339286</td>\n",
       "      <td>0.052903</td>\n",
       "      <td>0.0</td>\n",
       "      <td>1.000000</td>\n",
       "      <td>0.186047</td>\n",
       "      <td>0</td>\n",
       "      <td>1</td>\n",
       "      <td>0</td>\n",
       "      <td>0</td>\n",
       "      <td>1</td>\n",
       "      <td>...</td>\n",
       "      <td>0</td>\n",
       "      <td>1</td>\n",
       "      <td>0</td>\n",
       "      <td>0</td>\n",
       "      <td>1</td>\n",
       "      <td>0</td>\n",
       "      <td>0</td>\n",
       "      <td>0</td>\n",
       "      <td>0</td>\n",
       "      <td>good</td>\n",
       "    </tr>\n",
       "    <tr>\n",
       "      <th>1000</th>\n",
       "      <td>0.071429</td>\n",
       "      <td>0.152311</td>\n",
       "      <td>0.0</td>\n",
       "      <td>1.000000</td>\n",
       "      <td>0.953488</td>\n",
       "      <td>0</td>\n",
       "      <td>1</td>\n",
       "      <td>0</td>\n",
       "      <td>0</td>\n",
       "      <td>0</td>\n",
       "      <td>...</td>\n",
       "      <td>0</td>\n",
       "      <td>1</td>\n",
       "      <td>0</td>\n",
       "      <td>0</td>\n",
       "      <td>0</td>\n",
       "      <td>0</td>\n",
       "      <td>0</td>\n",
       "      <td>1</td>\n",
       "      <td>0</td>\n",
       "      <td>bad</td>\n",
       "    </tr>\n",
       "    <tr>\n",
       "      <th>1001</th>\n",
       "      <td>0.142857</td>\n",
       "      <td>0.413102</td>\n",
       "      <td>0.0</td>\n",
       "      <td>0.666667</td>\n",
       "      <td>0.953488</td>\n",
       "      <td>0</td>\n",
       "      <td>0</td>\n",
       "      <td>0</td>\n",
       "      <td>0</td>\n",
       "      <td>0</td>\n",
       "      <td>...</td>\n",
       "      <td>0</td>\n",
       "      <td>1</td>\n",
       "      <td>0</td>\n",
       "      <td>0</td>\n",
       "      <td>1</td>\n",
       "      <td>0</td>\n",
       "      <td>0</td>\n",
       "      <td>0</td>\n",
       "      <td>0</td>\n",
       "      <td>good</td>\n",
       "    </tr>\n",
       "  </tbody>\n",
       "</table>\n",
       "<p>884 rows × 23 columns</p>\n",
       "</div>"
      ],
      "text/plain": [
       "           Age  Credit Amount  Existing Credits  Installment Rate  Duration  \\\n",
       "0     0.857143       0.087758               1.0          1.000000  0.046512   \n",
       "2     0.535714       0.176280               0.0          0.333333  0.186047   \n",
       "3     0.464286       0.728801               0.0          0.333333  0.883721   \n",
       "4     0.607143       0.441176               1.0          0.666667  0.465116   \n",
       "5     0.285714       0.840814               0.0          0.333333  0.744186   \n",
       "...        ...            ...               ...               ...       ...   \n",
       "997   0.214286       0.141902               0.0          0.666667  0.186047   \n",
       "998   0.375000       0.344442               0.0          1.000000  0.604651   \n",
       "999   0.339286       0.052903               0.0          1.000000  0.186047   \n",
       "1000  0.071429       0.152311               0.0          1.000000  0.953488   \n",
       "1001  0.142857       0.413102               0.0          0.666667  0.953488   \n",
       "\n",
       "      delay  paid back  4 to <7 years  < 1 year  >= 7 years  ...  rich  \\\n",
       "0         0          0              0         0           1  ...     0   \n",
       "2         0          0              1         0           0  ...     0   \n",
       "3         0          1              1         0           0  ...     0   \n",
       "4         1          0              0         0           0  ...     0   \n",
       "5         0          1              0         0           0  ...     0   \n",
       "...     ...        ...            ...       ...         ...  ...   ...   \n",
       "997       0          1              1         0           0  ...     0   \n",
       "998       0          1              0         0           0  ...     0   \n",
       "999       0          1              0         0           1  ...     0   \n",
       "1000      0          1              0         0           0  ...     0   \n",
       "1001      0          0              0         0           0  ...     0   \n",
       "\n",
       "      skilled employee  unemployed/non-resident  unskilled/resident  own  \\\n",
       "0                    1                        0                   0    1   \n",
       "2                    0                        0                   1    1   \n",
       "3                    1                        0                   0    0   \n",
       "4                    1                        0                   0    0   \n",
       "5                    0                        0                   1    0   \n",
       "...                ...                      ...                 ...  ...   \n",
       "997                  0                        0                   1    1   \n",
       "998                  0                        0                   0    1   \n",
       "999                  1                        0                   0    1   \n",
       "1000                 1                        0                   0    0   \n",
       "1001                 1                        0                   0    1   \n",
       "\n",
       "      rent  life insurance  no property  real estate  Risk  \n",
       "0        0               0            0            1  good  \n",
       "2        0               0            0            1  good  \n",
       "3        0               1            0            0  good  \n",
       "4        0               0            1            0   bad  \n",
       "5        0               0            1            0  good  \n",
       "...    ...             ...          ...          ...   ...  \n",
       "997      0               0            0            1  good  \n",
       "998      0               1            0            0  good  \n",
       "999      0               0            0            0  good  \n",
       "1000     0               0            1            0   bad  \n",
       "1001     0               0            0            0  good  \n",
       "\n",
       "[884 rows x 23 columns]"
      ]
     },
     "execution_count": 33,
     "metadata": {},
     "output_type": "execute_result"
    }
   ],
   "source": [
    "df2 = pd.concat([numerical_df, credit_hist_dum, employment_status_dum,\n",
    "                checking_account_dum,\n",
    "                job_dum,housing_dum,property_dum,\n",
    "                df['Risk']], axis=1)\n",
    "df2.head()\n",
    "df2"
   ]
  },
  {
   "cell_type": "markdown",
   "metadata": {},
   "source": [
    "### Model fitting with Credit History data and performing Cross-validations, separating data set into training and testing"
   ]
  },
  {
   "cell_type": "code",
   "execution_count": 34,
   "metadata": {},
   "outputs": [
    {
     "data": {
      "text/plain": [
       "SVC(kernel='linear')"
      ]
     },
     "execution_count": 34,
     "metadata": {},
     "output_type": "execute_result"
    }
   ],
   "source": [
    "model = svm.SVC(kernel = 'linear')\n",
    "x_train, x_test, y_train, y_test = train_test_split(df2.drop('Risk',axis=1),\n",
    "                                                    df2['Risk'], test_size=0.20,\n",
    "                                                    random_state=121)\n",
    "\n",
    "model.fit(x_train, y_train)"
   ]
  },
  {
   "cell_type": "code",
   "execution_count": 35,
   "metadata": {},
   "outputs": [
    {
     "name": "stdout",
     "output_type": "stream",
     "text": [
      "              precision    recall  f1-score   support\n",
      "\n",
      "         bad       0.80      0.27      0.41        44\n",
      "        good       0.80      0.98      0.88       133\n",
      "\n",
      "    accuracy                           0.80       177\n",
      "   macro avg       0.80      0.63      0.64       177\n",
      "weighted avg       0.80      0.80      0.76       177\n",
      "\n",
      "0.8022598870056498\n"
     ]
    }
   ],
   "source": [
    "predictions = model.predict(x_test)\n",
    "print(classification_report(y_test,predictions))\n",
    "print(accuracy_score(y_test, predictions))"
   ]
  },
  {
   "cell_type": "code",
   "execution_count": 36,
   "metadata": {},
   "outputs": [
    {
     "name": "stdout",
     "output_type": "stream",
     "text": [
      "Trial : 0 , Accuracy :  0.751412429378531 , Slope: [[ 0.62632248 -0.24917501 -0.29181783 -0.62278522 -0.90534732 -0.84578595\n",
      "  -0.84407137  0.21707529 -0.39055832  0.19173062 -0.51122946 -1.44328714\n",
      "  -0.3983077  -0.30558937 -0.11944884  1.         -0.14291268 -0.32666996\n",
      "  -0.57288824  0.19001006 -0.50437763  0.27413486]] , Intercept: , [3.18969995]\n",
      "Trial : 1 , Accuracy :  0.8022598870056498 , Slope: [[ 0.53717931  0.40376735 -0.20854638 -0.53683701 -1.1340961  -0.59063318\n",
      "  -0.5987472   0.10701075 -0.36883668  0.19106199 -0.08435855 -1.11508621\n",
      "  -0.42945478 -0.22206939 -0.09945494 -0.20440259 -0.20258973 -0.414828\n",
      "  -0.72527185  0.21692111 -0.58503629  0.26159768]] , Intercept: , [2.91661869]\n",
      "Trial : 2 , Accuracy :  0.7853107344632768 , Slope: [[ 0.76488428  0.0881021  -0.22326385 -0.48184269 -1.07600374 -0.67183055\n",
      "  -0.64232314  0.01940033 -0.46162607  0.08020722 -0.45972276 -1.31927834\n",
      "  -0.39190634 -0.47597198 -0.15362257  0.78300598 -0.12790792 -0.37493406\n",
      "  -0.51185971  0.12016981 -0.57731588  0.18201308]] , Intercept: , [3.01592027]\n",
      "Trial : 3 , Accuracy :  0.8135593220338984 , Slope: [[ 0.66436305  0.44564658 -0.12948625 -0.48255849 -1.02548063 -0.55332532\n",
      "  -0.53155554  0.0426239  -0.38049038  0.08187578 -0.11543586 -1.17151316\n",
      "  -0.4343635  -0.31920671 -0.12047323  0.         -0.19021246 -0.26732953\n",
      "  -0.56697694  0.21030251 -0.52433601  0.31589417]] , Intercept: , [2.64322872]\n",
      "Trial : 4 , Accuracy :  0.7909604519774012 , Slope: [[ 0.40970552  0.53836702 -0.17734617 -0.46761308 -0.96085765 -0.42662945\n",
      "  -0.38213258  0.11310437 -0.37695624  0.16662613 -0.35791417 -0.89204741\n",
      "  -0.40108163 -0.19713403 -0.31837427 -0.4120636  -0.40435198  0.1173775\n",
      "  -0.22142884  0.16753544 -0.3549549   0.27229495]] , Intercept: , [2.27314257]\n",
      "Trial : 5 , Accuracy :  0.7344632768361582 , Slope: [[ 0.43370885 -0.00529908 -0.34837905 -0.81707696 -0.85510602 -0.66965847\n",
      "  -0.78059025  0.2041663  -0.33804108  0.27987477 -0.21683148 -1.2601822\n",
      "  -0.4522751  -0.43360726 -0.31155685 -0.49465546 -0.42936106 -0.2653366\n",
      "  -0.52077681  0.35614584 -0.38776613  0.35134499]] , Intercept: , [3.32949845]\n",
      "Trial : 6 , Accuracy :  0.7627118644067796 , Slope: [[ 0.27888746  0.55051677 -0.03867123 -0.31449331 -0.86201177 -0.38207101\n",
      "  -0.26232414  0.08912996 -0.26946638  0.10660958 -0.38866525 -0.66619063\n",
      "  -0.42924723 -0.0964249  -0.08475755  0.13188061 -0.26040021 -0.08890178\n",
      "  -0.22675842  0.11807007 -0.27742681  0.22692111]] , Intercept: , [1.95792753]\n",
      "Trial : 7 , Accuracy :  0.7796610169491526 , Slope: [[ 0.62493388  0.02400297 -0.30097273 -0.51808417 -1.13801017 -0.68906047\n",
      "  -0.73930797  0.13700161 -0.42233914  0.17742032 -0.33596255 -1.33188718\n",
      "  -0.49518047 -0.30256964 -0.15996466  0.         -0.29097141  0.05872238\n",
      "  -0.22701145  0.1923994  -0.33722312  0.30798279]] , Intercept: , [2.72227476]\n",
      "Trial : 8 , Accuracy :  0.7288135593220338 , Slope: [[ 0.34659231 -0.08996032 -0.4655915  -0.70754806 -0.820604   -0.59652008\n",
      "  -0.60882918  0.21133322 -0.37279583  0.1296936  -0.7405751  -1.21348258\n",
      "  -0.56134518 -0.26732302 -0.06901775 -0.04139436 -0.32537232 -0.0437641\n",
      "  -0.32426814  0.17043653 -0.45926548  0.47097271]] , Intercept: , [2.87217738]\n",
      "Trial : 9 , Accuracy :  0.7796610169491526 , Slope: [[ 0.30384227  0.01357904 -0.21774196 -0.53302062 -0.9443077  -0.34102801\n",
      "  -0.52567665  0.18865809 -0.40026795  0.02938785 -0.52007296 -1.10419269\n",
      "  -0.29345081 -0.18971992 -0.22678891 -0.1417657  -0.33514816  0.11063678\n",
      "  -0.11063678  0.30060139 -0.08450344  0.37686221]] , Intercept: , [2.42764193]\n"
     ]
    },
    {
     "data": {
      "text/plain": [
       "<matplotlib.axes._subplots.AxesSubplot at 0x7fcbe5094130>"
      ]
     },
     "execution_count": 36,
     "metadata": {},
     "output_type": "execute_result"
    },
    {
     "data": {
      "image/png": "[encoded data removed]",
      "text/plain": [
       "<Figure size 1440x720 with 1 Axes>"
      ]
     },
     "metadata": {
      "needs_background": "light"
     },
     "output_type": "display_data"
    }
   ],
   "source": [
    "import random\n",
    "accuracy = []\n",
    "for i in range(10):\n",
    "    X_train, X_test, Y_train, Y_test = train_test_split(df2.drop('Risk',axis=1),\n",
    "                                                    df2['Risk'], test_size=0.20,\n",
    "                                                    random_state = random.randint(1,1000))\n",
    "    model = svm.SVC(kernel = 'linear')\n",
    "    model.fit(X_train, Y_train)\n",
    "    Y_pred = model.predict(X_test)\n",
    "    accuracy.append(accuracy_score(Y_test, Y_pred))\n",
    "    print('Trial :',i, ', Accuracy : ',accuracy[i] ,', Slope:',model.coef_ ,', Intercept: ,',model.intercept_)\n",
    "    \n",
    "rdf = pd.DataFrame( {'trial': range(10), 'Accuracy Score': accuracy})\n",
    "rdf.plot.bar(x='trial', y='Accuracy Score' ,figsize=(20, 10))\n"
   ]
  },
  {
   "cell_type": "code",
   "execution_count": 37,
   "metadata": {},
   "outputs": [
    {
     "name": "stdout",
     "output_type": "stream",
     "text": [
      "              precision    recall  f1-score   support\n",
      "\n",
      "         bad       0.63      0.39      0.48        44\n",
      "        good       0.82      0.92      0.87       133\n",
      "\n",
      "    accuracy                           0.79       177\n",
      "   macro avg       0.72      0.66      0.67       177\n",
      "weighted avg       0.77      0.79      0.77       177\n",
      "\n",
      "Accuracy Score: 0.7909604519774012\n"
     ]
    }
   ],
   "source": [
    "model = LogisticRegression()\n",
    "model.fit(x_train,y_train)\n",
    "predictions = model.predict(x_test)\n",
    "print(classification_report(y_test,predictions))\n",
    "print('Accuracy Score:', accuracy_score(y_test, predictions))"
   ]
  },
  {
   "cell_type": "code",
   "execution_count": 38,
   "metadata": {},
   "outputs": [
    {
     "name": "stdout",
     "output_type": "stream",
     "text": [
      "Trial : 0 , Accuracy :  0.7401129943502824\n",
      "Trial : 1 , Accuracy :  0.7740112994350282\n",
      "Trial : 2 , Accuracy :  0.6949152542372882\n",
      "Trial : 3 , Accuracy :  0.751412429378531\n",
      "Trial : 4 , Accuracy :  0.8531073446327684\n",
      "Trial : 5 , Accuracy :  0.7401129943502824\n",
      "Trial : 6 , Accuracy :  0.7909604519774012\n",
      "Trial : 7 , Accuracy :  0.751412429378531\n",
      "Trial : 8 , Accuracy :  0.7344632768361582\n",
      "Trial : 9 , Accuracy :  0.7740112994350282\n"
     ]
    },
    {
     "data": {
      "text/plain": [
       "<matplotlib.axes._subplots.AxesSubplot at 0x7fcbe5123e50>"
      ]
     },
     "execution_count": 38,
     "metadata": {},
     "output_type": "execute_result"
    },
    {
     "data": {
      "image/png": "[encoded data removed]",
      "text/plain": [
       "<Figure size 1440x720 with 1 Axes>"
      ]
     },
     "metadata": {
      "needs_background": "light"
     },
     "output_type": "display_data"
    }
   ],
   "source": [
    "accuracy = []\n",
    "for i in range(10):\n",
    "    X_train, X_test, Y_train, Y_test = train_test_split(df2.drop('Risk',axis=1),\n",
    "                                                    df['Risk'], test_size=0.20,\n",
    "                                                    random_state = random.randint(1,1000))\n",
    "    model = LogisticRegression()\n",
    "    model.fit(X_train, Y_train)\n",
    "    Y_pred = model.predict(X_test)\n",
    "    accuracy.append(accuracy_score(Y_test, Y_pred))\n",
    "    print('Trial :',i, ', Accuracy : ',accuracy[i])\n",
    "    \n",
    "rdf = pd.DataFrame( {'trial': range(10), 'Accuracy Score': accuracy})\n",
    "rdf.plot.bar(x='trial', y='Accuracy Score' ,figsize=(20, 10))"
   ]
  },
  {
   "cell_type": "code",
   "execution_count": 39,
   "metadata": {},
   "outputs": [
    {
     "name": "stdout",
     "output_type": "stream",
     "text": [
      "              precision    recall  f1-score   support\n",
      "\n",
      "         bad       0.58      0.34      0.43        44\n",
      "        good       0.81      0.92      0.86       133\n",
      "\n",
      "    accuracy                           0.77       177\n",
      "   macro avg       0.69      0.63      0.64       177\n",
      "weighted avg       0.75      0.77      0.75       177\n",
      "\n",
      "Accuracy Score: 0.7740112994350282\n"
     ]
    }
   ],
   "source": [
    "model = RandomForestClassifier()\n",
    "model.fit(x_train,y_train)\n",
    "predictions = model.predict(x_test)\n",
    "print(classification_report(y_test,predictions))\n",
    "print('Accuracy Score:', accuracy_score(y_test, predictions))"
   ]
  },
  {
   "cell_type": "code",
   "execution_count": 40,
   "metadata": {},
   "outputs": [
    {
     "name": "stdout",
     "output_type": "stream",
     "text": [
      "Trial : 0 , Accuracy :  0.7457627118644068\n",
      "Trial : 1 , Accuracy :  0.6892655367231638\n",
      "Trial : 2 , Accuracy :  0.7627118644067796\n",
      "Trial : 3 , Accuracy :  0.7005649717514124\n",
      "Trial : 4 , Accuracy :  0.6949152542372882\n",
      "Trial : 5 , Accuracy :  0.7231638418079096\n",
      "Trial : 6 , Accuracy :  0.7570621468926554\n",
      "Trial : 7 , Accuracy :  0.7853107344632768\n",
      "Trial : 8 , Accuracy :  0.7344632768361582\n",
      "Trial : 9 , Accuracy :  0.768361581920904\n"
     ]
    },
    {
     "data": {
      "text/plain": [
       "<matplotlib.axes._subplots.AxesSubplot at 0x7fcbe5b14e50>"
      ]
     },
     "execution_count": 40,
     "metadata": {},
     "output_type": "execute_result"
    },
    {
     "data": {
      "image/png": "[encoded data removed]",
      "text/plain": [
       "<Figure size 1440x720 with 1 Axes>"
      ]
     },
     "metadata": {
      "needs_background": "light"
     },
     "output_type": "display_data"
    }
   ],
   "source": [
    "\n",
    "accuracy = []\n",
    "for i in range(10):\n",
    "    X_train, X_test, Y_train, Y_test = train_test_split(df2.drop('Risk',axis=1),\n",
    "                                                    df['Risk'], test_size=0.20,\n",
    "                                                    random_state = random.randint(1,1000))\n",
    "    model = RandomForestClassifier()\n",
    "    model.fit(X_train, Y_train)\n",
    "    Y_pred = model.predict(X_test)\n",
    "    accuracy.append(accuracy_score(Y_test, Y_pred))\n",
    "    print('Trial :',i, ', Accuracy : ',accuracy[i])\n",
    "    \n",
    "rdf = pd.DataFrame( {'trial': range(10), 'Accuracy Score': accuracy})\n",
    "rdf.plot.bar(x='trial', y='Accuracy Score' ,figsize=(20, 10))"
   ]
  },
  {
   "cell_type": "markdown",
   "metadata": {},
   "source": [
    "### Model fitting without Credit History data"
   ]
  },
  {
   "cell_type": "code",
   "execution_count": 41,
   "metadata": {},
   "outputs": [
    {
     "data": {
      "text/html": [
       "<div>\n",
       "<style scoped>\n",
       "    .dataframe tbody tr th:only-of-type {\n",
       "        vertical-align: middle;\n",
       "    }\n",
       "\n",
       "    .dataframe tbody tr th {\n",
       "        vertical-align: top;\n",
       "    }\n",
       "\n",
       "    .dataframe thead th {\n",
       "        text-align: right;\n",
       "    }\n",
       "</style>\n",
       "<table border=\"1\" class=\"dataframe\">\n",
       "  <thead>\n",
       "    <tr style=\"text-align: right;\">\n",
       "      <th></th>\n",
       "      <th>Age</th>\n",
       "      <th>Credit Amount</th>\n",
       "      <th>Existing Credits</th>\n",
       "      <th>Installment Rate</th>\n",
       "      <th>Duration</th>\n",
       "      <th>4 to &lt;7 years</th>\n",
       "      <th>&lt; 1 year</th>\n",
       "      <th>&gt;= 7 years</th>\n",
       "      <th>unemployed</th>\n",
       "      <th>little</th>\n",
       "      <th>...</th>\n",
       "      <th>rich</th>\n",
       "      <th>skilled employee</th>\n",
       "      <th>unemployed/non-resident</th>\n",
       "      <th>unskilled/resident</th>\n",
       "      <th>own</th>\n",
       "      <th>rent</th>\n",
       "      <th>life insurance</th>\n",
       "      <th>no property</th>\n",
       "      <th>real estate</th>\n",
       "      <th>Risk</th>\n",
       "    </tr>\n",
       "  </thead>\n",
       "  <tbody>\n",
       "    <tr>\n",
       "      <th>0</th>\n",
       "      <td>0.857143</td>\n",
       "      <td>0.087758</td>\n",
       "      <td>1.0</td>\n",
       "      <td>1.000000</td>\n",
       "      <td>0.046512</td>\n",
       "      <td>0</td>\n",
       "      <td>0</td>\n",
       "      <td>1</td>\n",
       "      <td>0</td>\n",
       "      <td>1</td>\n",
       "      <td>...</td>\n",
       "      <td>0</td>\n",
       "      <td>1</td>\n",
       "      <td>0</td>\n",
       "      <td>0</td>\n",
       "      <td>1</td>\n",
       "      <td>0</td>\n",
       "      <td>0</td>\n",
       "      <td>0</td>\n",
       "      <td>1</td>\n",
       "      <td>good</td>\n",
       "    </tr>\n",
       "    <tr>\n",
       "      <th>2</th>\n",
       "      <td>0.535714</td>\n",
       "      <td>0.176280</td>\n",
       "      <td>0.0</td>\n",
       "      <td>0.333333</td>\n",
       "      <td>0.186047</td>\n",
       "      <td>1</td>\n",
       "      <td>0</td>\n",
       "      <td>0</td>\n",
       "      <td>0</td>\n",
       "      <td>0</td>\n",
       "      <td>...</td>\n",
       "      <td>0</td>\n",
       "      <td>0</td>\n",
       "      <td>0</td>\n",
       "      <td>1</td>\n",
       "      <td>1</td>\n",
       "      <td>0</td>\n",
       "      <td>0</td>\n",
       "      <td>0</td>\n",
       "      <td>1</td>\n",
       "      <td>good</td>\n",
       "    </tr>\n",
       "    <tr>\n",
       "      <th>3</th>\n",
       "      <td>0.464286</td>\n",
       "      <td>0.728801</td>\n",
       "      <td>0.0</td>\n",
       "      <td>0.333333</td>\n",
       "      <td>0.883721</td>\n",
       "      <td>1</td>\n",
       "      <td>0</td>\n",
       "      <td>0</td>\n",
       "      <td>0</td>\n",
       "      <td>1</td>\n",
       "      <td>...</td>\n",
       "      <td>0</td>\n",
       "      <td>1</td>\n",
       "      <td>0</td>\n",
       "      <td>0</td>\n",
       "      <td>0</td>\n",
       "      <td>0</td>\n",
       "      <td>1</td>\n",
       "      <td>0</td>\n",
       "      <td>0</td>\n",
       "      <td>good</td>\n",
       "    </tr>\n",
       "    <tr>\n",
       "      <th>4</th>\n",
       "      <td>0.607143</td>\n",
       "      <td>0.441176</td>\n",
       "      <td>1.0</td>\n",
       "      <td>0.666667</td>\n",
       "      <td>0.465116</td>\n",
       "      <td>0</td>\n",
       "      <td>0</td>\n",
       "      <td>0</td>\n",
       "      <td>0</td>\n",
       "      <td>1</td>\n",
       "      <td>...</td>\n",
       "      <td>0</td>\n",
       "      <td>1</td>\n",
       "      <td>0</td>\n",
       "      <td>0</td>\n",
       "      <td>0</td>\n",
       "      <td>0</td>\n",
       "      <td>0</td>\n",
       "      <td>1</td>\n",
       "      <td>0</td>\n",
       "      <td>bad</td>\n",
       "    </tr>\n",
       "    <tr>\n",
       "      <th>5</th>\n",
       "      <td>0.285714</td>\n",
       "      <td>0.840814</td>\n",
       "      <td>0.0</td>\n",
       "      <td>0.333333</td>\n",
       "      <td>0.744186</td>\n",
       "      <td>0</td>\n",
       "      <td>0</td>\n",
       "      <td>0</td>\n",
       "      <td>0</td>\n",
       "      <td>0</td>\n",
       "      <td>...</td>\n",
       "      <td>0</td>\n",
       "      <td>0</td>\n",
       "      <td>0</td>\n",
       "      <td>1</td>\n",
       "      <td>0</td>\n",
       "      <td>0</td>\n",
       "      <td>0</td>\n",
       "      <td>1</td>\n",
       "      <td>0</td>\n",
       "      <td>good</td>\n",
       "    </tr>\n",
       "  </tbody>\n",
       "</table>\n",
       "<p>5 rows × 21 columns</p>\n",
       "</div>"
      ],
      "text/plain": [
       "        Age  Credit Amount  Existing Credits  Installment Rate  Duration  \\\n",
       "0  0.857143       0.087758               1.0          1.000000  0.046512   \n",
       "2  0.535714       0.176280               0.0          0.333333  0.186047   \n",
       "3  0.464286       0.728801               0.0          0.333333  0.883721   \n",
       "4  0.607143       0.441176               1.0          0.666667  0.465116   \n",
       "5  0.285714       0.840814               0.0          0.333333  0.744186   \n",
       "\n",
       "   4 to <7 years  < 1 year  >= 7 years  unemployed  little  ...  rich  \\\n",
       "0              0         0           1           0       1  ...     0   \n",
       "2              1         0           0           0       0  ...     0   \n",
       "3              1         0           0           0       1  ...     0   \n",
       "4              0         0           0           0       1  ...     0   \n",
       "5              0         0           0           0       0  ...     0   \n",
       "\n",
       "   skilled employee  unemployed/non-resident  unskilled/resident  own  rent  \\\n",
       "0                 1                        0                   0    1     0   \n",
       "2                 0                        0                   1    1     0   \n",
       "3                 1                        0                   0    0     0   \n",
       "4                 1                        0                   0    0     0   \n",
       "5                 0                        0                   1    0     0   \n",
       "\n",
       "   life insurance  no property  real estate  Risk  \n",
       "0               0            0            1  good  \n",
       "2               0            0            1  good  \n",
       "3               1            0            0  good  \n",
       "4               0            1            0   bad  \n",
       "5               0            1            0  good  \n",
       "\n",
       "[5 rows x 21 columns]"
      ]
     },
     "execution_count": 41,
     "metadata": {},
     "output_type": "execute_result"
    }
   ],
   "source": [
    "df3 = pd.concat([numerical_df, employment_status_dum,\n",
    "                checking_account_dum,\n",
    "                job_dum,housing_dum,property_dum,\n",
    "                df['Risk']], axis=1)\n",
    "df3.head()\n"
   ]
  },
  {
   "cell_type": "code",
   "execution_count": 42,
   "metadata": {},
   "outputs": [
    {
     "name": "stdout",
     "output_type": "stream",
     "text": [
      "              precision    recall  f1-score   support\n",
      "\n",
      "         bad       0.65      0.25      0.36        44\n",
      "        good       0.79      0.95      0.87       133\n",
      "\n",
      "    accuracy                           0.78       177\n",
      "   macro avg       0.72      0.60      0.61       177\n",
      "weighted avg       0.76      0.78      0.74       177\n",
      "\n",
      "0.7796610169491526\n"
     ]
    }
   ],
   "source": [
    "model = svm.SVC(kernel = 'linear')\n",
    "x_train, x_test, y_train, y_test = train_test_split(df3.drop('Risk',axis=1),\n",
    "                                                    df3['Risk'], test_size=0.20,\n",
    "                                                    random_state=121)\n",
    "\n",
    "model.fit(x_train, y_train)\n",
    "predictions = model.predict(x_test)\n",
    "print(classification_report(y_test,predictions))\n",
    "print(accuracy_score(y_test, predictions))"
   ]
  },
  {
   "cell_type": "code",
   "execution_count": 43,
   "metadata": {},
   "outputs": [
    {
     "name": "stdout",
     "output_type": "stream",
     "text": [
      "              precision    recall  f1-score   support\n",
      "\n",
      "         bad       0.63      0.39      0.48        44\n",
      "        good       0.82      0.92      0.87       133\n",
      "\n",
      "    accuracy                           0.79       177\n",
      "   macro avg       0.72      0.66      0.67       177\n",
      "weighted avg       0.77      0.79      0.77       177\n",
      "\n",
      "Accuracy Score: 0.7909604519774012\n"
     ]
    }
   ],
   "source": [
    "model = LogisticRegression()\n",
    "model.fit(x_train,y_train)\n",
    "predictions = model.predict(x_test)\n",
    "print(classification_report(y_test,predictions))\n",
    "print('Accuracy Score:', accuracy_score(y_test, predictions))"
   ]
  },
  {
   "cell_type": "code",
   "execution_count": 44,
   "metadata": {},
   "outputs": [
    {
     "name": "stdout",
     "output_type": "stream",
     "text": [
      "              precision    recall  f1-score   support\n",
      "\n",
      "         bad       0.50      0.25      0.33        44\n",
      "        good       0.79      0.92      0.85       133\n",
      "\n",
      "    accuracy                           0.75       177\n",
      "   macro avg       0.64      0.58      0.59       177\n",
      "weighted avg       0.72      0.75      0.72       177\n",
      "\n",
      "Accuracy Score: 0.751412429378531\n"
     ]
    }
   ],
   "source": [
    "model = RandomForestClassifier()\n",
    "model.fit(x_train,y_train)\n",
    "predictions = model.predict(x_test)\n",
    "print(classification_report(y_test,predictions))\n",
    "print('Accuracy Score:', accuracy_score(y_test, predictions))"
   ]
  },
  {
   "cell_type": "markdown",
   "metadata": {},
   "source": [
    "### The performance of the SVM, RandomForest of 3 models are decreased when they are fitted without Credit History data. Therefore, past credit history is important factor to decide loan's risk."
   ]
  },
  {
   "cell_type": "markdown",
   "metadata": {},
   "source": []
  }
 ],
 "metadata": {
  "kernelspec": {
   "display_name": "Python 3 (ipykernel)",
   "language": "python",
   "name": "python3"
  },
  "language_info": {
   "codemirror_mode": {
    "name": "ipython",
    "version": 3
   },
   "file_extension": ".py",
   "mimetype": "text/x-python",
   "name": "python",
   "nbconvert_exporter": "python",
   "pygments_lexer": "ipython3",
   "version": "3.8.1"
  }
 },
 "nbformat": 4,
 "nbformat_minor": 2
}
