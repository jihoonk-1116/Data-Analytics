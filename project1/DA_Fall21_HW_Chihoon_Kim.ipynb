{
 "cells": [
  {
   "cell_type": "markdown",
   "metadata": {},
   "source": [
    "## DA_Fall21_HW_1 Due at Mid-night 10/19/2021"
   ]
  },
  {
   "cell_type": "markdown",
   "metadata": {},
   "source": [
    "### This homework will cover the following skills set\n",
    "* Using sql \n",
    "* Checking for null values and outliers\n",
    "* Calculate simple statistics using both SQL and Pandas \n",
    "* Calculate skew and correlation\n",
    "* Basic Data Visualization\n",
    "* How to fix missing values"
   ]
  },
  {
   "cell_type": "markdown",
   "metadata": {},
   "source": [
    "## Late Policy: Take off 50% after one day, 80% after two days"
   ]
  },
  {
   "cell_type": "markdown",
   "metadata": {},
   "source": [
    "**Make sure you have pandasql installed. If not, make sure you run the code in the following cell**"
   ]
  },
  {
   "cell_type": "code",
   "execution_count": 2,
   "metadata": {},
   "outputs": [],
   "source": [
    "import os\n",
    "try:\n",
    "    import pandasql as ps\n",
    "except:\n",
    "    print(\"Failed in import pandasql\")\n",
    "    os.system(\"pip install pandasql\")"
   ]
  },
  {
   "cell_type": "markdown",
   "metadata": {},
   "source": [
    "**Import all standard libaries**"
   ]
  },
  {
   "cell_type": "code",
   "execution_count": 3,
   "metadata": {},
   "outputs": [],
   "source": [
    "import pandas as pd\n",
    "import pandasql as ps\n",
    "import numpy as np\n",
    "import matplotlib.pyplot as plt\n",
    "import seaborn as sns"
   ]
  },
  {
   "cell_type": "markdown",
   "metadata": {},
   "source": [
    "## Loading Car Crashes dataset ##"
   ]
  },
  {
   "cell_type": "code",
   "execution_count": 4,
   "metadata": {},
   "outputs": [
    {
     "name": "stdout",
     "output_type": "stream",
     "text": [
      "(54, 10)\n"
     ]
    },
    {
     "data": {
      "text/html": [
       "<div>\n",
       "<style scoped>\n",
       "    .dataframe tbody tr th:only-of-type {\n",
       "        vertical-align: middle;\n",
       "    }\n",
       "\n",
       "    .dataframe tbody tr th {\n",
       "        vertical-align: top;\n",
       "    }\n",
       "\n",
       "    .dataframe thead th {\n",
       "        text-align: right;\n",
       "    }\n",
       "</style>\n",
       "<table border=\"1\" class=\"dataframe\">\n",
       "  <thead>\n",
       "    <tr style=\"text-align: right;\">\n",
       "      <th></th>\n",
       "      <th>accidents</th>\n",
       "      <th>speeding</th>\n",
       "      <th>alcohol</th>\n",
       "      <th>not_distracted</th>\n",
       "      <th>no_previous</th>\n",
       "      <th>ins_premium</th>\n",
       "      <th>ins_losses</th>\n",
       "      <th>state</th>\n",
       "      <th>region</th>\n",
       "      <th>division</th>\n",
       "    </tr>\n",
       "  </thead>\n",
       "  <tbody>\n",
       "    <tr>\n",
       "      <td>0</td>\n",
       "      <td>18.8</td>\n",
       "      <td>7.332</td>\n",
       "      <td>5.640</td>\n",
       "      <td>18.048</td>\n",
       "      <td>15.040</td>\n",
       "      <td>784.55</td>\n",
       "      <td>145.08</td>\n",
       "      <td>AL</td>\n",
       "      <td>South</td>\n",
       "      <td>East South Central</td>\n",
       "    </tr>\n",
       "    <tr>\n",
       "      <td>1</td>\n",
       "      <td>18.1</td>\n",
       "      <td>7.421</td>\n",
       "      <td>4.525</td>\n",
       "      <td>16.290</td>\n",
       "      <td>17.014</td>\n",
       "      <td>1053.48</td>\n",
       "      <td>133.93</td>\n",
       "      <td>AK</td>\n",
       "      <td>West</td>\n",
       "      <td>Pacific</td>\n",
       "    </tr>\n",
       "    <tr>\n",
       "      <td>2</td>\n",
       "      <td>18.6</td>\n",
       "      <td>6.510</td>\n",
       "      <td>5.208</td>\n",
       "      <td>15.624</td>\n",
       "      <td>17.856</td>\n",
       "      <td>899.47</td>\n",
       "      <td>110.35</td>\n",
       "      <td>AZ</td>\n",
       "      <td>West</td>\n",
       "      <td>Mountain</td>\n",
       "    </tr>\n",
       "    <tr>\n",
       "      <td>3</td>\n",
       "      <td>22.4</td>\n",
       "      <td>4.032</td>\n",
       "      <td>5.824</td>\n",
       "      <td>21.056</td>\n",
       "      <td>21.280</td>\n",
       "      <td>827.34</td>\n",
       "      <td>142.39</td>\n",
       "      <td>AR</td>\n",
       "      <td>South</td>\n",
       "      <td>West South Central</td>\n",
       "    </tr>\n",
       "    <tr>\n",
       "      <td>4</td>\n",
       "      <td>12.0</td>\n",
       "      <td>4.200</td>\n",
       "      <td>3.360</td>\n",
       "      <td>10.920</td>\n",
       "      <td>10.680</td>\n",
       "      <td>878.41</td>\n",
       "      <td>165.63</td>\n",
       "      <td>CA</td>\n",
       "      <td>West</td>\n",
       "      <td>Pacific</td>\n",
       "    </tr>\n",
       "  </tbody>\n",
       "</table>\n",
       "</div>"
      ],
      "text/plain": [
       "   accidents  speeding  alcohol  not_distracted  no_previous  ins_premium  \\\n",
       "0       18.8     7.332    5.640          18.048       15.040       784.55   \n",
       "1       18.1     7.421    4.525          16.290       17.014      1053.48   \n",
       "2       18.6     6.510    5.208          15.624       17.856       899.47   \n",
       "3       22.4     4.032    5.824          21.056       21.280       827.34   \n",
       "4       12.0     4.200    3.360          10.920       10.680       878.41   \n",
       "\n",
       "   ins_losses state region            division  \n",
       "0      145.08    AL  South  East South Central  \n",
       "1      133.93    AK   West             Pacific  \n",
       "2      110.35    AZ   West            Mountain  \n",
       "3      142.39    AR  South  West South Central  \n",
       "4      165.63    CA   West             Pacific  "
      ]
     },
     "execution_count": 4,
     "metadata": {},
     "output_type": "execute_result"
    }
   ],
   "source": [
    "crash = pd.read_csv(\"car_crashes2.csv\")\n",
    "print(crash.shape)\n",
    "crash.head()"
   ]
  },
  {
   "cell_type": "markdown",
   "metadata": {},
   "source": [
    "* accidents is the total number of crashes for each state\n",
    "* speeding is the average speeding in each state"
   ]
  },
  {
   "cell_type": "code",
   "execution_count": 5,
   "metadata": {},
   "outputs": [
    {
     "data": {
      "text/html": [
       "<div>\n",
       "<style scoped>\n",
       "    .dataframe tbody tr th:only-of-type {\n",
       "        vertical-align: middle;\n",
       "    }\n",
       "\n",
       "    .dataframe tbody tr th {\n",
       "        vertical-align: top;\n",
       "    }\n",
       "\n",
       "    .dataframe thead th {\n",
       "        text-align: right;\n",
       "    }\n",
       "</style>\n",
       "<table border=\"1\" class=\"dataframe\">\n",
       "  <thead>\n",
       "    <tr style=\"text-align: right;\">\n",
       "      <th></th>\n",
       "      <th>accidents</th>\n",
       "      <th>speeding</th>\n",
       "      <th>alcohol</th>\n",
       "      <th>not_distracted</th>\n",
       "      <th>no_previous</th>\n",
       "      <th>ins_premium</th>\n",
       "      <th>ins_losses</th>\n",
       "    </tr>\n",
       "  </thead>\n",
       "  <tbody>\n",
       "    <tr>\n",
       "      <td>count</td>\n",
       "      <td>54.000000</td>\n",
       "      <td>53.000000</td>\n",
       "      <td>54.000000</td>\n",
       "      <td>54.000000</td>\n",
       "      <td>54.000000</td>\n",
       "      <td>53.000000</td>\n",
       "      <td>54.000000</td>\n",
       "    </tr>\n",
       "    <tr>\n",
       "      <td>mean</td>\n",
       "      <td>15.668519</td>\n",
       "      <td>5.028755</td>\n",
       "      <td>5.506778</td>\n",
       "      <td>13.545407</td>\n",
       "      <td>13.931500</td>\n",
       "      <td>908.318113</td>\n",
       "      <td>133.967407</td>\n",
       "    </tr>\n",
       "    <tr>\n",
       "      <td>std</td>\n",
       "      <td>4.087386</td>\n",
       "      <td>2.000479</td>\n",
       "      <td>5.157681</td>\n",
       "      <td>4.463259</td>\n",
       "      <td>3.730217</td>\n",
       "      <td>232.237787</td>\n",
       "      <td>24.703393</td>\n",
       "    </tr>\n",
       "    <tr>\n",
       "      <td>min</td>\n",
       "      <td>5.900000</td>\n",
       "      <td>1.792000</td>\n",
       "      <td>1.593000</td>\n",
       "      <td>1.760000</td>\n",
       "      <td>5.900000</td>\n",
       "      <td>641.960000</td>\n",
       "      <td>82.750000</td>\n",
       "    </tr>\n",
       "    <tr>\n",
       "      <td>25%</td>\n",
       "      <td>12.725000</td>\n",
       "      <td>3.774000</td>\n",
       "      <td>3.891000</td>\n",
       "      <td>10.345000</td>\n",
       "      <td>11.262000</td>\n",
       "      <td>768.950000</td>\n",
       "      <td>112.332500</td>\n",
       "    </tr>\n",
       "    <tr>\n",
       "      <td>50%</td>\n",
       "      <td>15.450000</td>\n",
       "      <td>4.608000</td>\n",
       "      <td>4.542000</td>\n",
       "      <td>13.816000</td>\n",
       "      <td>13.717000</td>\n",
       "      <td>861.180000</td>\n",
       "      <td>135.840000</td>\n",
       "    </tr>\n",
       "    <tr>\n",
       "      <td>75%</td>\n",
       "      <td>18.350000</td>\n",
       "      <td>6.510000</td>\n",
       "      <td>5.622000</td>\n",
       "      <td>16.215000</td>\n",
       "      <td>16.579000</td>\n",
       "      <td>1011.140000</td>\n",
       "      <td>152.065000</td>\n",
       "    </tr>\n",
       "    <tr>\n",
       "      <td>max</td>\n",
       "      <td>23.900000</td>\n",
       "      <td>9.450000</td>\n",
       "      <td>40.642000</td>\n",
       "      <td>23.661000</td>\n",
       "      <td>21.280000</td>\n",
       "      <td>2000.030000</td>\n",
       "      <td>194.780000</td>\n",
       "    </tr>\n",
       "  </tbody>\n",
       "</table>\n",
       "</div>"
      ],
      "text/plain": [
       "       accidents   speeding    alcohol  not_distracted  no_previous  \\\n",
       "count  54.000000  53.000000  54.000000       54.000000    54.000000   \n",
       "mean   15.668519   5.028755   5.506778       13.545407    13.931500   \n",
       "std     4.087386   2.000479   5.157681        4.463259     3.730217   \n",
       "min     5.900000   1.792000   1.593000        1.760000     5.900000   \n",
       "25%    12.725000   3.774000   3.891000       10.345000    11.262000   \n",
       "50%    15.450000   4.608000   4.542000       13.816000    13.717000   \n",
       "75%    18.350000   6.510000   5.622000       16.215000    16.579000   \n",
       "max    23.900000   9.450000  40.642000       23.661000    21.280000   \n",
       "\n",
       "       ins_premium  ins_losses  \n",
       "count    53.000000   54.000000  \n",
       "mean    908.318113  133.967407  \n",
       "std     232.237787   24.703393  \n",
       "min     641.960000   82.750000  \n",
       "25%     768.950000  112.332500  \n",
       "50%     861.180000  135.840000  \n",
       "75%    1011.140000  152.065000  \n",
       "max    2000.030000  194.780000  "
      ]
     },
     "execution_count": 5,
     "metadata": {},
     "output_type": "execute_result"
    }
   ],
   "source": [
    "crash.describe()"
   ]
  },
  {
   "cell_type": "markdown",
   "metadata": {},
   "source": [
    "## Question 1. Check if there are any null or NA"
   ]
  },
  {
   "cell_type": "code",
   "execution_count": 6,
   "metadata": {},
   "outputs": [
    {
     "name": "stdout",
     "output_type": "stream",
     "text": [
      "accidents         0\n",
      "speeding          1\n",
      "alcohol           0\n",
      "not_distracted    0\n",
      "no_previous       0\n",
      "ins_premium       1\n",
      "ins_losses        0\n",
      "state             0\n",
      "region            0\n",
      "division          0\n",
      "dtype: int64\n"
     ]
    }
   ],
   "source": [
    "print(crash.isnull().sum())"
   ]
  },
  {
   "cell_type": "markdown",
   "metadata": {},
   "source": [
    "## Question 2. Remove any rows that has null or NA"
   ]
  },
  {
   "cell_type": "code",
   "execution_count": 7,
   "metadata": {},
   "outputs": [
    {
     "name": "stdout",
     "output_type": "stream",
     "text": [
      "accidents         0\n",
      "speeding          0\n",
      "alcohol           0\n",
      "not_distracted    0\n",
      "no_previous       0\n",
      "ins_premium       0\n",
      "ins_losses        0\n",
      "state             0\n",
      "region            0\n",
      "division          0\n",
      "dtype: int64\n"
     ]
    }
   ],
   "source": [
    "crash = crash.dropna()\n",
    "print(crash.isnull().sum())"
   ]
  },
  {
   "cell_type": "markdown",
   "metadata": {},
   "source": [
    "## Question 3. Check if there is any outliers in all numerical fields using both scatter and boxplot"
   ]
  },
  {
   "cell_type": "markdown",
   "metadata": {},
   "source": [
    "**Type in your code here**"
   ]
  },
  {
   "cell_type": "code",
   "execution_count": 145,
   "metadata": {},
   "outputs": [
    {
     "data": {
      "text/plain": [
       "<matplotlib.axes._subplots.AxesSubplot at 0x7fc4446f41d0>"
      ]
     },
     "execution_count": 145,
     "metadata": {},
     "output_type": "execute_result"
    },
    {
     "data": {
      "image/png": "[encoded data removed]",
      "text/plain": [
       "<Figure size 432x288 with 1 Axes>"
      ]
     },
     "metadata": {
      "needs_background": "light"
     },
     "output_type": "display_data"
    }
   ],
   "source": [
    "crash.plot(kind='scatter',y='alcohol', x='accidents')\n",
    "#crash.plot(kind='scatter',y='speeding', x='accidents')\n",
    "#crash.plot(kind='scatter',y='not_distracted', x='accidents')\n",
    "#crash.plot(kind='scatter',y='no_previous', x='accidents')\n",
    "#crash.plot(kind='scatter',y='ins_premium', x='accidents')\n",
    "#crash.plot(kind='scatter',y='ins_losses', x='accidents')"
   ]
  },
  {
   "cell_type": "code",
   "execution_count": 11,
   "metadata": {},
   "outputs": [
    {
     "data": {
      "text/plain": [
       "<matplotlib.axes._subplots.AxesSubplot at 0x7fc442e63910>"
      ]
     },
     "execution_count": 11,
     "metadata": {},
     "output_type": "execute_result"
    },
    {
     "data": {
      "image/png": "[encoded data removed]",
      "text/plain": [
       "<Figure size 432x288 with 1 Axes>"
      ]
     },
     "metadata": {
      "needs_background": "light"
     },
     "output_type": "display_data"
    }
   ],
   "source": [
    "#sns.boxplot(x=crash['speeding'])\n",
    "sns.boxplot(x=crash['alcohol']) #there is outlier\n",
    "#sns.boxplot(x=crash['not_distracted'])\n",
    "#sns.boxplot(x=crash['no_previous'])\n",
    "#sns.boxplot(x=crash['ins_premium']) #there is outlier\n",
    "#sns.boxplot(x=crash['ins_losses'])"
   ]
  },
  {
   "cell_type": "markdown",
   "metadata": {},
   "source": [
    "## Question 4. Display and Remove (the real) outliers"
   ]
  },
  {
   "cell_type": "markdown",
   "metadata": {},
   "source": [
    "## 1) For alcohol field"
   ]
  },
  {
   "cell_type": "code",
   "execution_count": 18,
   "metadata": {},
   "outputs": [],
   "source": [
    "q_lowest = crash[\"alcohol\"].quantile(0.05)\n",
    "q_highest = crash[\"alcohol\"].quantile(0.90)"
   ]
  },
  {
   "cell_type": "code",
   "execution_count": 19,
   "metadata": {},
   "outputs": [],
   "source": [
    "crash_filtered = crash[(crash[\"alcohol\"]<q_highest) & (crash[\"alcohol\"]>q_lowest)]"
   ]
  },
  {
   "cell_type": "code",
   "execution_count": 20,
   "metadata": {},
   "outputs": [
    {
     "data": {
      "text/plain": [
       "<matplotlib.axes._subplots.AxesSubplot at 0x7fc443215390>"
      ]
     },
     "execution_count": 20,
     "metadata": {},
     "output_type": "execute_result"
    },
    {
     "data": {
      "image/png": "[encoded data removed]",
      "text/plain": [
       "<Figure size 432x288 with 1 Axes>"
      ]
     },
     "metadata": {
      "needs_background": "light"
     },
     "output_type": "display_data"
    }
   ],
   "source": [
    "#result\n",
    "sns.boxplot(x=crash_filtered['alcohol'])"
   ]
  },
  {
   "cell_type": "code",
   "execution_count": 21,
   "metadata": {},
   "outputs": [],
   "source": [
    "q_lowest = crash[\"ins_premium\"].quantile(0.01)\n",
    "q_highest = crash[\"ins_premium\"].quantile(0.99)\n",
    "crash_filtered = crash_filtered[(crash_filtered[\"ins_premium\"]<q_highest) & (crash_filtered[\"ins_premium\"]>q_lowest)]"
   ]
  },
  {
   "cell_type": "code",
   "execution_count": 22,
   "metadata": {},
   "outputs": [
    {
     "data": {
      "text/plain": [
       "<matplotlib.axes._subplots.AxesSubplot at 0x7fc4432db290>"
      ]
     },
     "execution_count": 22,
     "metadata": {},
     "output_type": "execute_result"
    },
    {
     "data": {
      "image/png": "[encoded data removed]",
      "text/plain": [
       "<Figure size 432x288 with 1 Axes>"
      ]
     },
     "metadata": {
      "needs_background": "light"
     },
     "output_type": "display_data"
    }
   ],
   "source": [
    "#result\n",
    "sns.boxplot(x=crash_filtered['ins_premium'])"
   ]
  },
  {
   "cell_type": "code",
   "execution_count": 23,
   "metadata": {},
   "outputs": [],
   "source": [
    "#assign to the original\n",
    "crash = crash_filtered"
   ]
  },
  {
   "cell_type": "markdown",
   "metadata": {},
   "source": [
    "## Question 5. Calculate the average speeding in usa and Northeast region using SQL"
   ]
  },
  {
   "cell_type": "code",
   "execution_count": 24,
   "metadata": {},
   "outputs": [],
   "source": [
    "sql = lambda q: ps.sqldf(q,globals())"
   ]
  },
  {
   "cell_type": "code",
   "execution_count": 34,
   "metadata": {},
   "outputs": [
    {
     "data": {
      "text/html": [
       "<div>\n",
       "<style scoped>\n",
       "    .dataframe tbody tr th:only-of-type {\n",
       "        vertical-align: middle;\n",
       "    }\n",
       "\n",
       "    .dataframe tbody tr th {\n",
       "        vertical-align: top;\n",
       "    }\n",
       "\n",
       "    .dataframe thead th {\n",
       "        text-align: right;\n",
       "    }\n",
       "</style>\n",
       "<table border=\"1\" class=\"dataframe\">\n",
       "  <thead>\n",
       "    <tr style=\"text-align: right;\">\n",
       "      <th></th>\n",
       "      <th>region</th>\n",
       "      <th>AVG(speeding)</th>\n",
       "    </tr>\n",
       "  </thead>\n",
       "  <tbody>\n",
       "    <tr>\n",
       "      <td>0</td>\n",
       "      <td>Northeast</td>\n",
       "      <td>4.42475</td>\n",
       "    </tr>\n",
       "  </tbody>\n",
       "</table>\n",
       "</div>"
      ],
      "text/plain": [
       "      region  AVG(speeding)\n",
       "0  Northeast        4.42475"
      ]
     },
     "execution_count": 34,
     "metadata": {},
     "output_type": "execute_result"
    }
   ],
   "source": [
    "sql(\"SELECT region, AVG(speeding) FROM crash where region = 'Northeast'\")"
   ]
  },
  {
   "cell_type": "markdown",
   "metadata": {},
   "source": [
    "## Question 6. Calculate the average alcohol for each region using SQL"
   ]
  },
  {
   "cell_type": "markdown",
   "metadata": {},
   "source": [
    "**Type in your code here**"
   ]
  },
  {
   "cell_type": "code",
   "execution_count": 33,
   "metadata": {},
   "outputs": [
    {
     "data": {
      "text/html": [
       "<div>\n",
       "<style scoped>\n",
       "    .dataframe tbody tr th:only-of-type {\n",
       "        vertical-align: middle;\n",
       "    }\n",
       "\n",
       "    .dataframe tbody tr th {\n",
       "        vertical-align: top;\n",
       "    }\n",
       "\n",
       "    .dataframe thead th {\n",
       "        text-align: right;\n",
       "    }\n",
       "</style>\n",
       "<table border=\"1\" class=\"dataframe\">\n",
       "  <thead>\n",
       "    <tr style=\"text-align: right;\">\n",
       "      <th></th>\n",
       "      <th>region</th>\n",
       "      <th>AVG(alcohol)</th>\n",
       "    </tr>\n",
       "  </thead>\n",
       "  <tbody>\n",
       "    <tr>\n",
       "      <td>0</td>\n",
       "      <td>Midwest</td>\n",
       "      <td>4.714100</td>\n",
       "    </tr>\n",
       "    <tr>\n",
       "      <td>1</td>\n",
       "      <td>Northeast</td>\n",
       "      <td>3.980500</td>\n",
       "    </tr>\n",
       "    <tr>\n",
       "      <td>2</td>\n",
       "      <td>South</td>\n",
       "      <td>5.234643</td>\n",
       "    </tr>\n",
       "    <tr>\n",
       "      <td>3</td>\n",
       "      <td>West</td>\n",
       "      <td>4.329667</td>\n",
       "    </tr>\n",
       "  </tbody>\n",
       "</table>\n",
       "</div>"
      ],
      "text/plain": [
       "      region  AVG(alcohol)\n",
       "0    Midwest      4.714100\n",
       "1  Northeast      3.980500\n",
       "2      South      5.234643\n",
       "3       West      4.329667"
      ]
     },
     "execution_count": 33,
     "metadata": {},
     "output_type": "execute_result"
    }
   ],
   "source": [
    "sql(\"SELECT region, AVG(alcohol) FROM crash group by region\")"
   ]
  },
  {
   "cell_type": "markdown",
   "metadata": {},
   "source": [
    "## Question 7. Calculate the number of occurrences, mean, min, max of the speeding for each divison using SQL"
   ]
  },
  {
   "cell_type": "code",
   "execution_count": 38,
   "metadata": {},
   "outputs": [
    {
     "data": {
      "text/html": [
       "<div>\n",
       "<style scoped>\n",
       "    .dataframe tbody tr th:only-of-type {\n",
       "        vertical-align: middle;\n",
       "    }\n",
       "\n",
       "    .dataframe tbody tr th {\n",
       "        vertical-align: top;\n",
       "    }\n",
       "\n",
       "    .dataframe thead th {\n",
       "        text-align: right;\n",
       "    }\n",
       "</style>\n",
       "<table border=\"1\" class=\"dataframe\">\n",
       "  <thead>\n",
       "    <tr style=\"text-align: right;\">\n",
       "      <th></th>\n",
       "      <th>division</th>\n",
       "      <th>COUNT(division)</th>\n",
       "      <th>AVG(speeding)</th>\n",
       "      <th>MIN(speeding)</th>\n",
       "      <th>MAX(speeding)</th>\n",
       "    </tr>\n",
       "  </thead>\n",
       "  <tbody>\n",
       "    <tr>\n",
       "      <td>0</td>\n",
       "      <td>East North Central</td>\n",
       "      <td>5</td>\n",
       "      <td>4.106600</td>\n",
       "      <td>3.384</td>\n",
       "      <td>4.968</td>\n",
       "    </tr>\n",
       "    <tr>\n",
       "      <td>1</td>\n",
       "      <td>East South Central</td>\n",
       "      <td>4</td>\n",
       "      <td>4.533250</td>\n",
       "      <td>2.640</td>\n",
       "      <td>7.332</td>\n",
       "    </tr>\n",
       "    <tr>\n",
       "      <td>2</td>\n",
       "      <td>Middle Atlantic</td>\n",
       "      <td>2</td>\n",
       "      <td>5.446000</td>\n",
       "      <td>1.792</td>\n",
       "      <td>9.100</td>\n",
       "    </tr>\n",
       "    <tr>\n",
       "      <td>3</td>\n",
       "      <td>Mountain</td>\n",
       "      <td>5</td>\n",
       "      <td>5.557000</td>\n",
       "      <td>3.496</td>\n",
       "      <td>7.308</td>\n",
       "    </tr>\n",
       "    <tr>\n",
       "      <td>4</td>\n",
       "      <td>New England</td>\n",
       "      <td>6</td>\n",
       "      <td>4.084333</td>\n",
       "      <td>1.886</td>\n",
       "      <td>5.738</td>\n",
       "    </tr>\n",
       "    <tr>\n",
       "      <td>5</td>\n",
       "      <td>Pacific</td>\n",
       "      <td>4</td>\n",
       "      <td>5.074250</td>\n",
       "      <td>4.200</td>\n",
       "      <td>7.421</td>\n",
       "    </tr>\n",
       "    <tr>\n",
       "      <td>6</td>\n",
       "      <td>South Atlantic</td>\n",
       "      <td>7</td>\n",
       "      <td>4.883714</td>\n",
       "      <td>2.413</td>\n",
       "      <td>8.092</td>\n",
       "    </tr>\n",
       "    <tr>\n",
       "      <td>7</td>\n",
       "      <td>West North Central</td>\n",
       "      <td>5</td>\n",
       "      <td>4.469800</td>\n",
       "      <td>1.937</td>\n",
       "      <td>6.923</td>\n",
       "    </tr>\n",
       "    <tr>\n",
       "      <td>8</td>\n",
       "      <td>West South Central</td>\n",
       "      <td>3</td>\n",
       "      <td>5.858333</td>\n",
       "      <td>4.032</td>\n",
       "      <td>7.175</td>\n",
       "    </tr>\n",
       "  </tbody>\n",
       "</table>\n",
       "</div>"
      ],
      "text/plain": [
       "             division  COUNT(division)  AVG(speeding)  MIN(speeding)  \\\n",
       "0  East North Central                5       4.106600          3.384   \n",
       "1  East South Central                4       4.533250          2.640   \n",
       "2     Middle Atlantic                2       5.446000          1.792   \n",
       "3            Mountain                5       5.557000          3.496   \n",
       "4         New England                6       4.084333          1.886   \n",
       "5             Pacific                4       5.074250          4.200   \n",
       "6      South Atlantic                7       4.883714          2.413   \n",
       "7  West North Central                5       4.469800          1.937   \n",
       "8  West South Central                3       5.858333          4.032   \n",
       "\n",
       "   MAX(speeding)  \n",
       "0          4.968  \n",
       "1          7.332  \n",
       "2          9.100  \n",
       "3          7.308  \n",
       "4          5.738  \n",
       "5          7.421  \n",
       "6          8.092  \n",
       "7          6.923  \n",
       "8          7.175  "
      ]
     },
     "execution_count": 38,
     "metadata": {},
     "output_type": "execute_result"
    }
   ],
   "source": [
    "sql(\"SELECT division, COUNT(division), AVG(speeding), MIN(speeding), MAX(speeding) FROM crash group by division\")"
   ]
  },
  {
   "cell_type": "markdown",
   "metadata": {},
   "source": [
    "## Question 8. Answer Question 7 but use Pandas functions"
   ]
  },
  {
   "cell_type": "code",
   "execution_count": 81,
   "metadata": {},
   "outputs": [
    {
     "data": {
      "text/html": [
       "<div>\n",
       "<style scoped>\n",
       "    .dataframe tbody tr th:only-of-type {\n",
       "        vertical-align: middle;\n",
       "    }\n",
       "\n",
       "    .dataframe tbody tr th {\n",
       "        vertical-align: top;\n",
       "    }\n",
       "\n",
       "    .dataframe thead tr th {\n",
       "        text-align: left;\n",
       "    }\n",
       "\n",
       "    .dataframe thead tr:last-of-type th {\n",
       "        text-align: right;\n",
       "    }\n",
       "</style>\n",
       "<table border=\"1\" class=\"dataframe\">\n",
       "  <thead>\n",
       "    <tr>\n",
       "      <th></th>\n",
       "      <th colspan=\"4\" halign=\"left\">speeding</th>\n",
       "    </tr>\n",
       "    <tr>\n",
       "      <th></th>\n",
       "      <th>count</th>\n",
       "      <th>mean</th>\n",
       "      <th>min</th>\n",
       "      <th>max</th>\n",
       "    </tr>\n",
       "    <tr>\n",
       "      <th>division</th>\n",
       "      <th></th>\n",
       "      <th></th>\n",
       "      <th></th>\n",
       "      <th></th>\n",
       "    </tr>\n",
       "  </thead>\n",
       "  <tbody>\n",
       "    <tr>\n",
       "      <td>East North Central</td>\n",
       "      <td>5</td>\n",
       "      <td>4.106600</td>\n",
       "      <td>3.384</td>\n",
       "      <td>4.968</td>\n",
       "    </tr>\n",
       "    <tr>\n",
       "      <td>East South Central</td>\n",
       "      <td>4</td>\n",
       "      <td>4.533250</td>\n",
       "      <td>2.640</td>\n",
       "      <td>7.332</td>\n",
       "    </tr>\n",
       "    <tr>\n",
       "      <td>Middle Atlantic</td>\n",
       "      <td>2</td>\n",
       "      <td>5.446000</td>\n",
       "      <td>1.792</td>\n",
       "      <td>9.100</td>\n",
       "    </tr>\n",
       "    <tr>\n",
       "      <td>Mountain</td>\n",
       "      <td>5</td>\n",
       "      <td>5.557000</td>\n",
       "      <td>3.496</td>\n",
       "      <td>7.308</td>\n",
       "    </tr>\n",
       "    <tr>\n",
       "      <td>New England</td>\n",
       "      <td>6</td>\n",
       "      <td>4.084333</td>\n",
       "      <td>1.886</td>\n",
       "      <td>5.738</td>\n",
       "    </tr>\n",
       "    <tr>\n",
       "      <td>Pacific</td>\n",
       "      <td>4</td>\n",
       "      <td>5.074250</td>\n",
       "      <td>4.200</td>\n",
       "      <td>7.421</td>\n",
       "    </tr>\n",
       "    <tr>\n",
       "      <td>South Atlantic</td>\n",
       "      <td>7</td>\n",
       "      <td>4.883714</td>\n",
       "      <td>2.413</td>\n",
       "      <td>8.092</td>\n",
       "    </tr>\n",
       "    <tr>\n",
       "      <td>West North Central</td>\n",
       "      <td>5</td>\n",
       "      <td>4.469800</td>\n",
       "      <td>1.937</td>\n",
       "      <td>6.923</td>\n",
       "    </tr>\n",
       "    <tr>\n",
       "      <td>West South Central</td>\n",
       "      <td>3</td>\n",
       "      <td>5.858333</td>\n",
       "      <td>4.032</td>\n",
       "      <td>7.175</td>\n",
       "    </tr>\n",
       "  </tbody>\n",
       "</table>\n",
       "</div>"
      ],
      "text/plain": [
       "                   speeding                        \n",
       "                      count      mean    min    max\n",
       "division                                           \n",
       "East North Central        5  4.106600  3.384  4.968\n",
       "East South Central        4  4.533250  2.640  7.332\n",
       "Middle Atlantic           2  5.446000  1.792  9.100\n",
       "Mountain                  5  5.557000  3.496  7.308\n",
       "New England               6  4.084333  1.886  5.738\n",
       "Pacific                   4  5.074250  4.200  7.421\n",
       "South Atlantic            7  4.883714  2.413  8.092\n",
       "West North Central        5  4.469800  1.937  6.923\n",
       "West South Central        3  5.858333  4.032  7.175"
      ]
     },
     "execution_count": 81,
     "metadata": {},
     "output_type": "execute_result"
    }
   ],
   "source": [
    "crash[['speeding','division']].groupby('division').agg(['count','mean','min','max'])    "
   ]
  },
  {
   "cell_type": "markdown",
   "metadata": {},
   "source": [
    "## Question 9. Calculate the Standard deviation, Skew and Kurtosis for the accidents, speeding, alcohol for each region"
   ]
  },
  {
   "cell_type": "markdown",
   "metadata": {},
   "source": [
    "**Type in your code here**"
   ]
  },
  {
   "cell_type": "code",
   "execution_count": 93,
   "metadata": {},
   "outputs": [
    {
     "data": {
      "text/html": [
       "<div>\n",
       "<style scoped>\n",
       "    .dataframe tbody tr th:only-of-type {\n",
       "        vertical-align: middle;\n",
       "    }\n",
       "\n",
       "    .dataframe tbody tr th {\n",
       "        vertical-align: top;\n",
       "    }\n",
       "\n",
       "    .dataframe thead th {\n",
       "        text-align: right;\n",
       "    }\n",
       "</style>\n",
       "<table border=\"1\" class=\"dataframe\">\n",
       "  <thead>\n",
       "    <tr style=\"text-align: right;\">\n",
       "      <th></th>\n",
       "      <th>accidents</th>\n",
       "      <th>speeding</th>\n",
       "      <th>alcohol</th>\n",
       "    </tr>\n",
       "    <tr>\n",
       "      <th>region</th>\n",
       "      <th></th>\n",
       "      <th></th>\n",
       "      <th></th>\n",
       "    </tr>\n",
       "  </thead>\n",
       "  <tbody>\n",
       "    <tr>\n",
       "      <td>Midwest</td>\n",
       "      <td>1.038854</td>\n",
       "      <td>0.230159</td>\n",
       "      <td>1.208719</td>\n",
       "    </tr>\n",
       "    <tr>\n",
       "      <td>Northeast</td>\n",
       "      <td>0.777587</td>\n",
       "      <td>1.051666</td>\n",
       "      <td>0.764250</td>\n",
       "    </tr>\n",
       "    <tr>\n",
       "      <td>South</td>\n",
       "      <td>-0.247488</td>\n",
       "      <td>0.235427</td>\n",
       "      <td>-0.316669</td>\n",
       "    </tr>\n",
       "    <tr>\n",
       "      <td>West</td>\n",
       "      <td>-0.145859</td>\n",
       "      <td>0.451006</td>\n",
       "      <td>0.068405</td>\n",
       "    </tr>\n",
       "  </tbody>\n",
       "</table>\n",
       "</div>"
      ],
      "text/plain": [
       "           accidents  speeding   alcohol\n",
       "region                                  \n",
       "Midwest     1.038854  0.230159  1.208719\n",
       "Northeast   0.777587  1.051666  0.764250\n",
       "South      -0.247488  0.235427 -0.316669\n",
       "West       -0.145859  0.451006  0.068405"
      ]
     },
     "execution_count": 93,
     "metadata": {},
     "output_type": "execute_result"
    }
   ],
   "source": [
    "#Skew\n",
    "crash[['accidents','speeding','alcohol','region']].groupby('region').skew()"
   ]
  },
  {
   "cell_type": "code",
   "execution_count": 96,
   "metadata": {},
   "outputs": [
    {
     "data": {
      "text/html": [
       "<div>\n",
       "<style scoped>\n",
       "    .dataframe tbody tr th:only-of-type {\n",
       "        vertical-align: middle;\n",
       "    }\n",
       "\n",
       "    .dataframe tbody tr th {\n",
       "        vertical-align: top;\n",
       "    }\n",
       "\n",
       "    .dataframe thead th {\n",
       "        text-align: right;\n",
       "    }\n",
       "</style>\n",
       "<table border=\"1\" class=\"dataframe\">\n",
       "  <thead>\n",
       "    <tr style=\"text-align: right;\">\n",
       "      <th></th>\n",
       "      <th>accidents</th>\n",
       "      <th>speeding</th>\n",
       "      <th>alcohol</th>\n",
       "    </tr>\n",
       "    <tr>\n",
       "      <th>region</th>\n",
       "      <th></th>\n",
       "      <th></th>\n",
       "      <th></th>\n",
       "    </tr>\n",
       "  </thead>\n",
       "  <tbody>\n",
       "    <tr>\n",
       "      <td>Midwest</td>\n",
       "      <td>2.001000</td>\n",
       "      <td>1.500969</td>\n",
       "      <td>0.782071</td>\n",
       "    </tr>\n",
       "    <tr>\n",
       "      <td>Northeast</td>\n",
       "      <td>3.077453</td>\n",
       "      <td>2.327773</td>\n",
       "      <td>0.872950</td>\n",
       "    </tr>\n",
       "    <tr>\n",
       "      <td>South</td>\n",
       "      <td>3.343585</td>\n",
       "      <td>1.890938</td>\n",
       "      <td>0.969408</td>\n",
       "    </tr>\n",
       "    <tr>\n",
       "      <td>West</td>\n",
       "      <td>3.061454</td>\n",
       "      <td>1.432264</td>\n",
       "      <td>0.851329</td>\n",
       "    </tr>\n",
       "  </tbody>\n",
       "</table>\n",
       "</div>"
      ],
      "text/plain": [
       "           accidents  speeding   alcohol\n",
       "region                                  \n",
       "Midwest     2.001000  1.500969  0.782071\n",
       "Northeast   3.077453  2.327773  0.872950\n",
       "South       3.343585  1.890938  0.969408\n",
       "West        3.061454  1.432264  0.851329"
      ]
     },
     "execution_count": 96,
     "metadata": {},
     "output_type": "execute_result"
    }
   ],
   "source": [
    "#Standard deviation\n",
    "crash[['accidents','speeding','alcohol','region']].groupby('region').std()"
   ]
  },
  {
   "cell_type": "code",
   "execution_count": 100,
   "metadata": {},
   "outputs": [
    {
     "data": {
      "text/html": [
       "<div>\n",
       "<style scoped>\n",
       "    .dataframe tbody tr th:only-of-type {\n",
       "        vertical-align: middle;\n",
       "    }\n",
       "\n",
       "    .dataframe tbody tr th {\n",
       "        vertical-align: top;\n",
       "    }\n",
       "\n",
       "    .dataframe thead th {\n",
       "        text-align: right;\n",
       "    }\n",
       "</style>\n",
       "<table border=\"1\" class=\"dataframe\">\n",
       "  <thead>\n",
       "    <tr style=\"text-align: right;\">\n",
       "      <th></th>\n",
       "      <th>accidents</th>\n",
       "      <th>speeding</th>\n",
       "      <th>alcohol</th>\n",
       "    </tr>\n",
       "    <tr>\n",
       "      <th>region</th>\n",
       "      <th></th>\n",
       "      <th></th>\n",
       "      <th></th>\n",
       "    </tr>\n",
       "  </thead>\n",
       "  <tbody>\n",
       "    <tr>\n",
       "      <td>Midwest</td>\n",
       "      <td>0.641949</td>\n",
       "      <td>-0.225414</td>\n",
       "      <td>1.126557</td>\n",
       "    </tr>\n",
       "    <tr>\n",
       "      <td>Northeast</td>\n",
       "      <td>0.726713</td>\n",
       "      <td>1.763520</td>\n",
       "      <td>0.890501</td>\n",
       "    </tr>\n",
       "    <tr>\n",
       "      <td>South</td>\n",
       "      <td>-0.417919</td>\n",
       "      <td>-1.419641</td>\n",
       "      <td>-0.227123</td>\n",
       "    </tr>\n",
       "    <tr>\n",
       "      <td>West</td>\n",
       "      <td>-1.778022</td>\n",
       "      <td>-1.326451</td>\n",
       "      <td>-1.727504</td>\n",
       "    </tr>\n",
       "  </tbody>\n",
       "</table>\n",
       "</div>"
      ],
      "text/plain": [
       "           accidents  speeding   alcohol\n",
       "region                                  \n",
       "Midwest     0.641949 -0.225414  1.126557\n",
       "Northeast   0.726713  1.763520  0.890501\n",
       "South      -0.417919 -1.419641 -0.227123\n",
       "West       -1.778022 -1.326451 -1.727504"
      ]
     },
     "execution_count": 100,
     "metadata": {},
     "output_type": "execute_result"
    }
   ],
   "source": [
    "#Kurtosis\n",
    "crash[['accidents','speeding','alcohol','region']].groupby('region').apply(pd.DataFrame.kurt)"
   ]
  },
  {
   "cell_type": "markdown",
   "metadata": {},
   "source": [
    "## Question 10. Plot the histogram of accidents distribution for different region using 5 bins"
   ]
  },
  {
   "cell_type": "code",
   "execution_count": 122,
   "metadata": {},
   "outputs": [
    {
     "name": "stdout",
     "output_type": "stream",
     "text": [
      "           accidents\n",
      "region              \n",
      "Midwest        153.2\n",
      "Northeast       99.8\n",
      "South          255.6\n",
      "West           136.2\n"
     ]
    },
    {
     "data": {
      "image/png": "[encoded data removed]",
      "text/plain": [
       "<Figure size 432x288 with 1 Axes>"
      ]
     },
     "metadata": {
      "needs_background": "light"
     },
     "output_type": "display_data"
    }
   ],
   "source": [
    "print(crash[['accidents', 'region']].groupby('region').agg('sum'))\n",
    "plt.hist(crash['region'], weights=crash['accidents'], bins=4)\n",
    "plt.show()"
   ]
  },
  {
   "cell_type": "markdown",
   "metadata": {},
   "source": [
    "**Type in your answer here**"
   ]
  },
  {
   "cell_type": "markdown",
   "metadata": {},
   "source": [
    "## Question 11. How would you describe the accidents distribution for different region based on the Skew and Kurotsis?\n",
    "(i.e. who has positive and negative skew and who has positive and negative Kurotsis)"
   ]
  },
  {
   "cell_type": "markdown",
   "metadata": {},
   "source": [
    "The region of Midwest and Northeast have positive Kurotsis, otherwise, South and West regions have negative Kurotosis.\n",
    "\n",
    "The region of Midwest and Northeast have positive Skew, otherwise, South and West regions have negative Skew.\n"
   ]
  },
  {
   "cell_type": "code",
   "execution_count": 144,
   "metadata": {},
   "outputs": [
    {
     "data": {
      "text/html": [
       "<div>\n",
       "<style scoped>\n",
       "    .dataframe tbody tr th:only-of-type {\n",
       "        vertical-align: middle;\n",
       "    }\n",
       "\n",
       "    .dataframe tbody tr th {\n",
       "        vertical-align: top;\n",
       "    }\n",
       "\n",
       "    .dataframe thead th {\n",
       "        text-align: right;\n",
       "    }\n",
       "</style>\n",
       "<table border=\"1\" class=\"dataframe\">\n",
       "  <thead>\n",
       "    <tr style=\"text-align: right;\">\n",
       "      <th></th>\n",
       "      <th>accidents</th>\n",
       "    </tr>\n",
       "    <tr>\n",
       "      <th>region</th>\n",
       "      <th></th>\n",
       "    </tr>\n",
       "  </thead>\n",
       "  <tbody>\n",
       "    <tr>\n",
       "      <td>Midwest</td>\n",
       "      <td>1.038854</td>\n",
       "    </tr>\n",
       "    <tr>\n",
       "      <td>Northeast</td>\n",
       "      <td>0.777587</td>\n",
       "    </tr>\n",
       "    <tr>\n",
       "      <td>South</td>\n",
       "      <td>-0.247488</td>\n",
       "    </tr>\n",
       "    <tr>\n",
       "      <td>West</td>\n",
       "      <td>-0.145859</td>\n",
       "    </tr>\n",
       "  </tbody>\n",
       "</table>\n",
       "</div>"
      ],
      "text/plain": [
       "           accidents\n",
       "region              \n",
       "Midwest     1.038854\n",
       "Northeast   0.777587\n",
       "South      -0.247488\n",
       "West       -0.145859"
      ]
     },
     "execution_count": 144,
     "metadata": {},
     "output_type": "execute_result"
    }
   ],
   "source": [
    "#crash[['accidents','region']].groupby('region').apply(pd.DataFrame.kurt)\n",
    "crash[['accidents','region']].groupby('region').skew()"
   ]
  },
  {
   "cell_type": "markdown",
   "metadata": {},
   "source": [
    "## Question 12. Calculate correlation of all the factors among themselves and determine which factors among speeding, alcohol or ins_premium will affect accidents the most?"
   ]
  },
  {
   "cell_type": "markdown",
   "metadata": {},
   "source": [
    "Answer --> Alcohol mo stly affects accidents "
   ]
  },
  {
   "cell_type": "code",
   "execution_count": 130,
   "metadata": {},
   "outputs": [
    {
     "data": {
      "text/html": [
       "<div>\n",
       "<style scoped>\n",
       "    .dataframe tbody tr th:only-of-type {\n",
       "        vertical-align: middle;\n",
       "    }\n",
       "\n",
       "    .dataframe tbody tr th {\n",
       "        vertical-align: top;\n",
       "    }\n",
       "\n",
       "    .dataframe thead th {\n",
       "        text-align: right;\n",
       "    }\n",
       "</style>\n",
       "<table border=\"1\" class=\"dataframe\">\n",
       "  <thead>\n",
       "    <tr style=\"text-align: right;\">\n",
       "      <th></th>\n",
       "      <th>accidents</th>\n",
       "      <th>speeding</th>\n",
       "      <th>alcohol</th>\n",
       "      <th>not_distracted</th>\n",
       "      <th>no_previous</th>\n",
       "      <th>ins_premium</th>\n",
       "      <th>ins_losses</th>\n",
       "    </tr>\n",
       "  </thead>\n",
       "  <tbody>\n",
       "    <tr>\n",
       "      <td>accidents</td>\n",
       "      <td>1.000000</td>\n",
       "      <td>0.510201</td>\n",
       "      <td>0.860698</td>\n",
       "      <td>0.745511</td>\n",
       "      <td>0.946022</td>\n",
       "      <td>-0.065860</td>\n",
       "      <td>0.094045</td>\n",
       "    </tr>\n",
       "    <tr>\n",
       "      <td>speeding</td>\n",
       "      <td>0.510201</td>\n",
       "      <td>1.000000</td>\n",
       "      <td>0.611283</td>\n",
       "      <td>0.515812</td>\n",
       "      <td>0.479895</td>\n",
       "      <td>0.012709</td>\n",
       "      <td>0.091946</td>\n",
       "    </tr>\n",
       "    <tr>\n",
       "      <td>alcohol</td>\n",
       "      <td>0.860698</td>\n",
       "      <td>0.611283</td>\n",
       "      <td>1.000000</td>\n",
       "      <td>0.636439</td>\n",
       "      <td>0.829713</td>\n",
       "      <td>-0.037727</td>\n",
       "      <td>0.138967</td>\n",
       "    </tr>\n",
       "    <tr>\n",
       "      <td>not_distracted</td>\n",
       "      <td>0.745511</td>\n",
       "      <td>0.515812</td>\n",
       "      <td>0.636439</td>\n",
       "      <td>1.000000</td>\n",
       "      <td>0.650023</td>\n",
       "      <td>-0.070343</td>\n",
       "      <td>0.023349</td>\n",
       "    </tr>\n",
       "    <tr>\n",
       "      <td>no_previous</td>\n",
       "      <td>0.946022</td>\n",
       "      <td>0.479895</td>\n",
       "      <td>0.829713</td>\n",
       "      <td>0.650023</td>\n",
       "      <td>1.000000</td>\n",
       "      <td>0.005896</td>\n",
       "      <td>0.130330</td>\n",
       "    </tr>\n",
       "    <tr>\n",
       "      <td>ins_premium</td>\n",
       "      <td>-0.065860</td>\n",
       "      <td>0.012709</td>\n",
       "      <td>-0.037727</td>\n",
       "      <td>-0.070343</td>\n",
       "      <td>0.005896</td>\n",
       "      <td>1.000000</td>\n",
       "      <td>0.645062</td>\n",
       "    </tr>\n",
       "    <tr>\n",
       "      <td>ins_losses</td>\n",
       "      <td>0.094045</td>\n",
       "      <td>0.091946</td>\n",
       "      <td>0.138967</td>\n",
       "      <td>0.023349</td>\n",
       "      <td>0.130330</td>\n",
       "      <td>0.645062</td>\n",
       "      <td>1.000000</td>\n",
       "    </tr>\n",
       "  </tbody>\n",
       "</table>\n",
       "</div>"
      ],
      "text/plain": [
       "                accidents  speeding   alcohol  not_distracted  no_previous  \\\n",
       "accidents        1.000000  0.510201  0.860698        0.745511     0.946022   \n",
       "speeding         0.510201  1.000000  0.611283        0.515812     0.479895   \n",
       "alcohol          0.860698  0.611283  1.000000        0.636439     0.829713   \n",
       "not_distracted   0.745511  0.515812  0.636439        1.000000     0.650023   \n",
       "no_previous      0.946022  0.479895  0.829713        0.650023     1.000000   \n",
       "ins_premium     -0.065860  0.012709 -0.037727       -0.070343     0.005896   \n",
       "ins_losses       0.094045  0.091946  0.138967        0.023349     0.130330   \n",
       "\n",
       "                ins_premium  ins_losses  \n",
       "accidents         -0.065860    0.094045  \n",
       "speeding           0.012709    0.091946  \n",
       "alcohol           -0.037727    0.138967  \n",
       "not_distracted    -0.070343    0.023349  \n",
       "no_previous        0.005896    0.130330  \n",
       "ins_premium        1.000000    0.645062  \n",
       "ins_losses         0.645062    1.000000  "
      ]
     },
     "execution_count": 130,
     "metadata": {},
     "output_type": "execute_result"
    }
   ],
   "source": [
    "crash.corr(method='pearson')\n",
    "#crash['accidents'].corr(crash['speeding'])\n",
    "#crash['accidents'].corr(crash['alcohol'])\n",
    "#crash['accidents'].corr(crash['ins_premium'])\n",
    "\n",
    "#Answer --> Alcohol mostly affects accidents "
   ]
  },
  {
   "cell_type": "markdown",
   "metadata": {},
   "source": [
    "### Now Load a different dataset (MPG dataset number 3)"
   ]
  },
  {
   "cell_type": "code",
   "execution_count": 137,
   "metadata": {},
   "outputs": [
    {
     "name": "stdout",
     "output_type": "stream",
     "text": [
      "(405, 9)\n"
     ]
    },
    {
     "data": {
      "text/html": [
       "<div>\n",
       "<style scoped>\n",
       "    .dataframe tbody tr th:only-of-type {\n",
       "        vertical-align: middle;\n",
       "    }\n",
       "\n",
       "    .dataframe tbody tr th {\n",
       "        vertical-align: top;\n",
       "    }\n",
       "\n",
       "    .dataframe thead th {\n",
       "        text-align: right;\n",
       "    }\n",
       "</style>\n",
       "<table border=\"1\" class=\"dataframe\">\n",
       "  <thead>\n",
       "    <tr style=\"text-align: right;\">\n",
       "      <th></th>\n",
       "      <th>mpg</th>\n",
       "      <th>cylinders</th>\n",
       "      <th>displacement</th>\n",
       "      <th>horsepower</th>\n",
       "      <th>weight</th>\n",
       "      <th>acceleration</th>\n",
       "      <th>model_year</th>\n",
       "      <th>origin</th>\n",
       "      <th>name</th>\n",
       "    </tr>\n",
       "  </thead>\n",
       "  <tbody>\n",
       "    <tr>\n",
       "      <td>0</td>\n",
       "      <td>18.0</td>\n",
       "      <td>8</td>\n",
       "      <td>307.0</td>\n",
       "      <td>130.0</td>\n",
       "      <td>3504.0</td>\n",
       "      <td>12.0</td>\n",
       "      <td>70</td>\n",
       "      <td>usa</td>\n",
       "      <td>chevrolet chevelle malibu</td>\n",
       "    </tr>\n",
       "    <tr>\n",
       "      <td>1</td>\n",
       "      <td>15.0</td>\n",
       "      <td>8</td>\n",
       "      <td>350.0</td>\n",
       "      <td>165.0</td>\n",
       "      <td>3693.0</td>\n",
       "      <td>11.5</td>\n",
       "      <td>70</td>\n",
       "      <td>usa</td>\n",
       "      <td>buick skylark 320</td>\n",
       "    </tr>\n",
       "    <tr>\n",
       "      <td>2</td>\n",
       "      <td>18.0</td>\n",
       "      <td>8</td>\n",
       "      <td>318.0</td>\n",
       "      <td>150.0</td>\n",
       "      <td>3436.0</td>\n",
       "      <td>11.0</td>\n",
       "      <td>70</td>\n",
       "      <td>usa</td>\n",
       "      <td>plymouth satellite</td>\n",
       "    </tr>\n",
       "    <tr>\n",
       "      <td>3</td>\n",
       "      <td>16.0</td>\n",
       "      <td>8</td>\n",
       "      <td>304.0</td>\n",
       "      <td>150.0</td>\n",
       "      <td>3433.0</td>\n",
       "      <td>12.0</td>\n",
       "      <td>70</td>\n",
       "      <td>usa</td>\n",
       "      <td>amc rebel sst</td>\n",
       "    </tr>\n",
       "    <tr>\n",
       "      <td>4</td>\n",
       "      <td>17.0</td>\n",
       "      <td>8</td>\n",
       "      <td>302.0</td>\n",
       "      <td>140.0</td>\n",
       "      <td>3449.0</td>\n",
       "      <td>10.5</td>\n",
       "      <td>70</td>\n",
       "      <td>usa</td>\n",
       "      <td>ford torino</td>\n",
       "    </tr>\n",
       "  </tbody>\n",
       "</table>\n",
       "</div>"
      ],
      "text/plain": [
       "    mpg  cylinders  displacement  horsepower  weight  acceleration  \\\n",
       "0  18.0          8         307.0       130.0  3504.0          12.0   \n",
       "1  15.0          8         350.0       165.0  3693.0          11.5   \n",
       "2  18.0          8         318.0       150.0  3436.0          11.0   \n",
       "3  16.0          8         304.0       150.0  3433.0          12.0   \n",
       "4  17.0          8         302.0       140.0  3449.0          10.5   \n",
       "\n",
       "   model_year origin                       name  \n",
       "0          70    usa  chevrolet chevelle malibu  \n",
       "1          70    usa          buick skylark 320  \n",
       "2          70    usa         plymouth satellite  \n",
       "3          70    usa              amc rebel sst  \n",
       "4          70    usa                ford torino  "
      ]
     },
     "execution_count": 137,
     "metadata": {},
     "output_type": "execute_result"
    }
   ],
   "source": [
    "mpg = pd.read_csv(\"mpg3.csv\")\n",
    "print(mpg.shape)\n",
    "mpg.head()"
   ]
  },
  {
   "cell_type": "markdown",
   "metadata": {},
   "source": [
    "# Question 13: Check to see if there are any missing values. Fix the missing values by imputing value from the mean."
   ]
  },
  {
   "cell_type": "markdown",
   "metadata": {},
   "source": [
    "### Type your code to fix the missing values by imputing value from the mean"
   ]
  },
  {
   "cell_type": "code",
   "execution_count": 138,
   "metadata": {},
   "outputs": [
    {
     "name": "stdout",
     "output_type": "stream",
     "text": [
      "mpg             1\n",
      "cylinders       0\n",
      "displacement    0\n",
      "horsepower      6\n",
      "weight          1\n",
      "acceleration    0\n",
      "model_year      0\n",
      "origin          0\n",
      "name            0\n",
      "dtype: int64\n"
     ]
    }
   ],
   "source": [
    "print(mpg.isnull().sum()) #check the missing value"
   ]
  },
  {
   "cell_type": "code",
   "execution_count": 141,
   "metadata": {},
   "outputs": [],
   "source": [
    "mpg['mpg'].fillna(mpg['mpg'].mean(), inplace = True)\n",
    "mpg['horsepower'].fillna(mpg['horsepower'].mean(), inplace = True)\n",
    "mpg['weight'].fillna(mpg['weight'].mean(), inplace = True)"
   ]
  },
  {
   "cell_type": "code",
   "execution_count": 142,
   "metadata": {},
   "outputs": [
    {
     "name": "stdout",
     "output_type": "stream",
     "text": [
      "mpg             0\n",
      "cylinders       0\n",
      "displacement    0\n",
      "horsepower      0\n",
      "weight          0\n",
      "acceleration    0\n",
      "model_year      0\n",
      "origin          0\n",
      "name            0\n",
      "dtype: int64\n"
     ]
    }
   ],
   "source": [
    "print(mpg.isnull().sum()) #check the missing value"
   ]
  },
  {
   "cell_type": "code",
   "execution_count": null,
   "metadata": {},
   "outputs": [],
   "source": []
  }
 ],
 "metadata": {
  "kernelspec": {
   "display_name": "Python 3",
   "language": "python",
   "name": "python3"
  },
  "language_info": {
   "codemirror_mode": {
    "name": "ipython",
    "version": 3
   },
   "file_extension": ".py",
   "mimetype": "text/x-python",
   "name": "python",
   "nbconvert_exporter": "python",
   "pygments_lexer": "ipython3",
   "version": "3.7.4"
  }
 },
 "nbformat": 4,
 "nbformat_minor": 2
}
